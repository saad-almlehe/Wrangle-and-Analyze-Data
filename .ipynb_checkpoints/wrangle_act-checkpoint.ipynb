{
 "cells": [
  {
   "cell_type": "markdown",
   "metadata": {},
   "source": [
    "\n",
    "\n",
    "# Project: Wrangle and Analyze Data\n",
    "\n",
    "\n",
    "\n",
    "## Table of Contents\n",
    "<ul>\n",
    "<li><a href=\"#intro\">Introduction</a></li>\n",
    "<li><a href=\"#Gathering\">Gathering Data</a></li>\n",
    "<li><a href=\"#Assessing\">Assessing Data</a></li>   \n",
    "<li><a href=\"#Cleaning\">Cleaning Data</a></li>\n",
    "<li><a href=\"#cleanedDf\">Cleaned Data </a></li>\n",
    "<li><a href=\"#Analyze\">Analyze and visualize Data </a></li>  \n",
    "</ul>"
   ]
  },
  {
   "cell_type": "markdown",
   "metadata": {},
   "source": [
    "<a id='intro'></a>\n",
    "## Introduction\n",
    ">\n",
    "> In this project I will gather data from a variety of sources and in a variety of formats, assess its quality and tidiness, then clean it.Also I will document my wrangling efforts in a Jupyter Notebook, A after that I will be analyzing and visualizing the cleaned Data to answer these questions:\n",
    "- does the favorites and retweets in tweet have corrlation with its rating? \n",
    "- how the populriaty of this account has icreased over time ? \n",
    "- what are the top 100 rating dogs and thier type ? \n",
    "- what are the probliblty of having golden etriever dog type in a new tweet ? \n",
    "- what are the probliblty of hving the rate (14 or 13) given that the dog type is Labrador retriever ?\n",
    "- what tweet have the highest retweets ? \n",
    "- what tweet have the highest favorites ? \n",
    "\n",
    ">\n",
    "> Dataset used from WeRateDogs, a Twitter account that rates people's dogs with a humorous comment about the dog. These ratings almost always have a denominator of 10. The numerators, though? Almost always greater than 10. 11/10, 12/10, 13/10, etc. Why? Because \"they're good dogs Brent.\" WeRateDogs has over 9 million followers and has received international media coverage."
   ]
  },
  {
   "cell_type": "markdown",
   "metadata": {},
   "source": [
    "<a id='Gathering'></a>\n",
    "## Gathering Data"
   ]
  },
  {
   "cell_type": "markdown",
   "metadata": {},
   "source": [
    "##### import needed libraries:"
   ]
  },
  {
   "cell_type": "code",
   "execution_count": 1,
   "metadata": {},
   "outputs": [],
   "source": [
    "import numpy as np\n",
    "import pandas as pd\n",
    "import requests "
   ]
  },
  {
   "cell_type": "markdown",
   "metadata": {},
   "source": [
    "##### download and save images data: "
   ]
  },
  {
   "cell_type": "code",
   "execution_count": 2,
   "metadata": {},
   "outputs": [],
   "source": [
    "url = 'https://d17h27t6h515a5.cloudfront.net/topher/2017/August/599fd2ad_image-predictions/image-predictions.tsv'\n",
    "\n",
    "response = requests.get(url)\n",
    "\n",
    "with open (url.split('/')[-1] , mode = 'wb') as outfile:\n",
    "    outfile.write(response.content)"
   ]
  },
  {
   "cell_type": "markdown",
   "metadata": {},
   "source": [
    "##### load files:"
   ]
  },
  {
   "cell_type": "code",
   "execution_count": 3,
   "metadata": {},
   "outputs": [],
   "source": [
    "archive_df = pd.read_csv('twitter-archive-enhanced-2.csv')\n",
    "\n",
    "images_df = pd.read_csv('image-predictions.tsv' , sep = '\\t')\n",
    "\n",
    "tweet_df = pd.read_json('tweet-json copy' , lines = True)"
   ]
  },
  {
   "cell_type": "markdown",
   "metadata": {},
   "source": [
    "<a id='Assessing'></a>\n",
    "## Assessing Data\n",
    "\n",
    "<ul>\n",
    "<li><a href=\"#vistweet\">Visual Assessment Assessing_tweet table </a></li>\n",
    "<li><a href=\"#protweet\">Programmatic Assessing_tweet table</a></li>\n",
    "<li><a href=\"#visimg\">Visual Assessing image_df table </a></li>   \n",
    "<li><a href=\"#proimg\">Programmatic Assessing image_df table</a></li>\n",
    "<li><a href=\"#Assessmentsum\">Assessment summary</a></li>\n",
    "</ul>\n"
   ]
  },
  {
   "cell_type": "markdown",
   "metadata": {},
   "source": [
    "- before we start i will drop coulmns that are not needed in this project and merge tweet_df and archive_df "
   ]
  },
  {
   "cell_type": "code",
   "execution_count": 4,
   "metadata": {},
   "outputs": [],
   "source": [
    "archive_df.drop(columns=['in_reply_to_status_id', 'in_reply_to_user_id', 'timestamp','retweeted_status_user_id',\n",
    "                         'retweeted_status_timestamp','expanded_urls','source'] , inplace=True)\n",
    "tweet_df.drop(columns=['id_str','full_text', 'truncated','display_text_range','entities','source','in_reply_to_status_id', \n",
    "                       'in_reply_to_status_id_str','in_reply_to_user_id', 'in_reply_to_user_id_str','in_reply_to_screen_name', 'user', 'geo', 'coordinates', 'place',\n",
    "                       'contributors', 'is_quote_status','favorited','retweeted','possibly_sensitive','possibly_sensitive_appealable',\n",
    "                        'lang', 'quoted_status_id', 'quoted_status_id_str', 'quoted_status' ] , inplace=True)"
   ]
  },
  {
   "cell_type": "code",
   "execution_count": 5,
   "metadata": {},
   "outputs": [],
   "source": [
    "# using merge method to merge tweet dataframe and archive dataframe in Assessing_tweet dataframe if they have same id \n",
    "\n",
    "Assessing_tweet = pd.merge(tweet_df, archive_df , left_on='id' , right_on='tweet_id')"
   ]
  },
  {
   "cell_type": "code",
   "execution_count": 6,
   "metadata": {},
   "outputs": [],
   "source": [
    "# drop tweet_id column from Assessing_tweet\n",
    "\n",
    "Assessing_tweet.drop(columns=['tweet_id'],inplace=True)"
   ]
  },
  {
   "cell_type": "markdown",
   "metadata": {},
   "source": [
    "<a id='vistweet'></a>\n",
    "##### (Assessing_tweet) Visual Assessment "
   ]
  },
  {
   "cell_type": "code",
   "execution_count": 7,
   "metadata": {
    "scrolled": true
   },
   "outputs": [
    {
     "data": {
      "text/html": [
       "<div>\n",
       "<style scoped>\n",
       "    .dataframe tbody tr th:only-of-type {\n",
       "        vertical-align: middle;\n",
       "    }\n",
       "\n",
       "    .dataframe tbody tr th {\n",
       "        vertical-align: top;\n",
       "    }\n",
       "\n",
       "    .dataframe thead th {\n",
       "        text-align: right;\n",
       "    }\n",
       "</style>\n",
       "<table border=\"1\" class=\"dataframe\">\n",
       "  <thead>\n",
       "    <tr style=\"text-align: right;\">\n",
       "      <th></th>\n",
       "      <th>created_at</th>\n",
       "      <th>id</th>\n",
       "      <th>extended_entities</th>\n",
       "      <th>retweet_count</th>\n",
       "      <th>favorite_count</th>\n",
       "      <th>retweeted_status</th>\n",
       "      <th>text</th>\n",
       "      <th>retweeted_status_id</th>\n",
       "      <th>rating_numerator</th>\n",
       "      <th>rating_denominator</th>\n",
       "      <th>name</th>\n",
       "      <th>doggo</th>\n",
       "      <th>floofer</th>\n",
       "      <th>pupper</th>\n",
       "      <th>puppo</th>\n",
       "    </tr>\n",
       "  </thead>\n",
       "  <tbody>\n",
       "    <tr>\n",
       "      <th>0</th>\n",
       "      <td>2017-08-01 16:23:56+00:00</td>\n",
       "      <td>892420643555336193</td>\n",
       "      <td>{'media': [{'id': 892420639486877696, 'id_str'...</td>\n",
       "      <td>8853</td>\n",
       "      <td>39467</td>\n",
       "      <td>NaN</td>\n",
       "      <td>This is Phineas. He's a mystical boy. Only eve...</td>\n",
       "      <td>NaN</td>\n",
       "      <td>13</td>\n",
       "      <td>10</td>\n",
       "      <td>Phineas</td>\n",
       "      <td>None</td>\n",
       "      <td>None</td>\n",
       "      <td>None</td>\n",
       "      <td>None</td>\n",
       "    </tr>\n",
       "    <tr>\n",
       "      <th>1</th>\n",
       "      <td>2017-08-01 00:17:27+00:00</td>\n",
       "      <td>892177421306343426</td>\n",
       "      <td>{'media': [{'id': 892177413194625024, 'id_str'...</td>\n",
       "      <td>6514</td>\n",
       "      <td>33819</td>\n",
       "      <td>NaN</td>\n",
       "      <td>This is Tilly. She's just checking pup on you....</td>\n",
       "      <td>NaN</td>\n",
       "      <td>13</td>\n",
       "      <td>10</td>\n",
       "      <td>Tilly</td>\n",
       "      <td>None</td>\n",
       "      <td>None</td>\n",
       "      <td>None</td>\n",
       "      <td>None</td>\n",
       "    </tr>\n",
       "    <tr>\n",
       "      <th>2</th>\n",
       "      <td>2017-07-31 00:18:03+00:00</td>\n",
       "      <td>891815181378084864</td>\n",
       "      <td>{'media': [{'id': 891815175371796480, 'id_str'...</td>\n",
       "      <td>4328</td>\n",
       "      <td>25461</td>\n",
       "      <td>NaN</td>\n",
       "      <td>This is Archie. He is a rare Norwegian Pouncin...</td>\n",
       "      <td>NaN</td>\n",
       "      <td>12</td>\n",
       "      <td>10</td>\n",
       "      <td>Archie</td>\n",
       "      <td>None</td>\n",
       "      <td>None</td>\n",
       "      <td>None</td>\n",
       "      <td>None</td>\n",
       "    </tr>\n",
       "    <tr>\n",
       "      <th>3</th>\n",
       "      <td>2017-07-30 15:58:51+00:00</td>\n",
       "      <td>891689557279858688</td>\n",
       "      <td>{'media': [{'id': 891689552724799489, 'id_str'...</td>\n",
       "      <td>8964</td>\n",
       "      <td>42908</td>\n",
       "      <td>NaN</td>\n",
       "      <td>This is Darla. She commenced a snooze mid meal...</td>\n",
       "      <td>NaN</td>\n",
       "      <td>13</td>\n",
       "      <td>10</td>\n",
       "      <td>Darla</td>\n",
       "      <td>None</td>\n",
       "      <td>None</td>\n",
       "      <td>None</td>\n",
       "      <td>None</td>\n",
       "    </tr>\n",
       "    <tr>\n",
       "      <th>4</th>\n",
       "      <td>2017-07-29 16:00:24+00:00</td>\n",
       "      <td>891327558926688256</td>\n",
       "      <td>{'media': [{'id': 891327551943041024, 'id_str'...</td>\n",
       "      <td>9774</td>\n",
       "      <td>41048</td>\n",
       "      <td>NaN</td>\n",
       "      <td>This is Franklin. He would like you to stop ca...</td>\n",
       "      <td>NaN</td>\n",
       "      <td>12</td>\n",
       "      <td>10</td>\n",
       "      <td>Franklin</td>\n",
       "      <td>None</td>\n",
       "      <td>None</td>\n",
       "      <td>None</td>\n",
       "      <td>None</td>\n",
       "    </tr>\n",
       "    <tr>\n",
       "      <th>...</th>\n",
       "      <td>...</td>\n",
       "      <td>...</td>\n",
       "      <td>...</td>\n",
       "      <td>...</td>\n",
       "      <td>...</td>\n",
       "      <td>...</td>\n",
       "      <td>...</td>\n",
       "      <td>...</td>\n",
       "      <td>...</td>\n",
       "      <td>...</td>\n",
       "      <td>...</td>\n",
       "      <td>...</td>\n",
       "      <td>...</td>\n",
       "      <td>...</td>\n",
       "      <td>...</td>\n",
       "    </tr>\n",
       "    <tr>\n",
       "      <th>2349</th>\n",
       "      <td>2015-11-16 00:24:50+00:00</td>\n",
       "      <td>666049248165822465</td>\n",
       "      <td>{'media': [{'id': 666049244999131136, 'id_str'...</td>\n",
       "      <td>41</td>\n",
       "      <td>111</td>\n",
       "      <td>NaN</td>\n",
       "      <td>Here we have a 1949 1st generation vulpix. Enj...</td>\n",
       "      <td>NaN</td>\n",
       "      <td>5</td>\n",
       "      <td>10</td>\n",
       "      <td>None</td>\n",
       "      <td>None</td>\n",
       "      <td>None</td>\n",
       "      <td>None</td>\n",
       "      <td>None</td>\n",
       "    </tr>\n",
       "    <tr>\n",
       "      <th>2350</th>\n",
       "      <td>2015-11-16 00:04:52+00:00</td>\n",
       "      <td>666044226329800704</td>\n",
       "      <td>{'media': [{'id': 666044217047650304, 'id_str'...</td>\n",
       "      <td>147</td>\n",
       "      <td>311</td>\n",
       "      <td>NaN</td>\n",
       "      <td>This is a purebred Piers Morgan. Loves to Netf...</td>\n",
       "      <td>NaN</td>\n",
       "      <td>6</td>\n",
       "      <td>10</td>\n",
       "      <td>a</td>\n",
       "      <td>None</td>\n",
       "      <td>None</td>\n",
       "      <td>None</td>\n",
       "      <td>None</td>\n",
       "    </tr>\n",
       "    <tr>\n",
       "      <th>2351</th>\n",
       "      <td>2015-11-15 23:21:54+00:00</td>\n",
       "      <td>666033412701032449</td>\n",
       "      <td>{'media': [{'id': 666033409081393153, 'id_str'...</td>\n",
       "      <td>47</td>\n",
       "      <td>128</td>\n",
       "      <td>NaN</td>\n",
       "      <td>Here is a very happy pup. Big fan of well-main...</td>\n",
       "      <td>NaN</td>\n",
       "      <td>9</td>\n",
       "      <td>10</td>\n",
       "      <td>a</td>\n",
       "      <td>None</td>\n",
       "      <td>None</td>\n",
       "      <td>None</td>\n",
       "      <td>None</td>\n",
       "    </tr>\n",
       "    <tr>\n",
       "      <th>2352</th>\n",
       "      <td>2015-11-15 23:05:30+00:00</td>\n",
       "      <td>666029285002620928</td>\n",
       "      <td>{'media': [{'id': 666029276303482880, 'id_str'...</td>\n",
       "      <td>48</td>\n",
       "      <td>132</td>\n",
       "      <td>NaN</td>\n",
       "      <td>This is a western brown Mitsubishi terrier. Up...</td>\n",
       "      <td>NaN</td>\n",
       "      <td>7</td>\n",
       "      <td>10</td>\n",
       "      <td>a</td>\n",
       "      <td>None</td>\n",
       "      <td>None</td>\n",
       "      <td>None</td>\n",
       "      <td>None</td>\n",
       "    </tr>\n",
       "    <tr>\n",
       "      <th>2353</th>\n",
       "      <td>2015-11-15 22:32:08+00:00</td>\n",
       "      <td>666020888022790149</td>\n",
       "      <td>{'media': [{'id': 666020881337073664, 'id_str'...</td>\n",
       "      <td>532</td>\n",
       "      <td>2535</td>\n",
       "      <td>NaN</td>\n",
       "      <td>Here we have a Japanese Irish Setter. Lost eye...</td>\n",
       "      <td>NaN</td>\n",
       "      <td>8</td>\n",
       "      <td>10</td>\n",
       "      <td>None</td>\n",
       "      <td>None</td>\n",
       "      <td>None</td>\n",
       "      <td>None</td>\n",
       "      <td>None</td>\n",
       "    </tr>\n",
       "  </tbody>\n",
       "</table>\n",
       "<p>2354 rows × 15 columns</p>\n",
       "</div>"
      ],
      "text/plain": [
       "                    created_at                  id  \\\n",
       "0    2017-08-01 16:23:56+00:00  892420643555336193   \n",
       "1    2017-08-01 00:17:27+00:00  892177421306343426   \n",
       "2    2017-07-31 00:18:03+00:00  891815181378084864   \n",
       "3    2017-07-30 15:58:51+00:00  891689557279858688   \n",
       "4    2017-07-29 16:00:24+00:00  891327558926688256   \n",
       "...                        ...                 ...   \n",
       "2349 2015-11-16 00:24:50+00:00  666049248165822465   \n",
       "2350 2015-11-16 00:04:52+00:00  666044226329800704   \n",
       "2351 2015-11-15 23:21:54+00:00  666033412701032449   \n",
       "2352 2015-11-15 23:05:30+00:00  666029285002620928   \n",
       "2353 2015-11-15 22:32:08+00:00  666020888022790149   \n",
       "\n",
       "                                      extended_entities  retweet_count  \\\n",
       "0     {'media': [{'id': 892420639486877696, 'id_str'...           8853   \n",
       "1     {'media': [{'id': 892177413194625024, 'id_str'...           6514   \n",
       "2     {'media': [{'id': 891815175371796480, 'id_str'...           4328   \n",
       "3     {'media': [{'id': 891689552724799489, 'id_str'...           8964   \n",
       "4     {'media': [{'id': 891327551943041024, 'id_str'...           9774   \n",
       "...                                                 ...            ...   \n",
       "2349  {'media': [{'id': 666049244999131136, 'id_str'...             41   \n",
       "2350  {'media': [{'id': 666044217047650304, 'id_str'...            147   \n",
       "2351  {'media': [{'id': 666033409081393153, 'id_str'...             47   \n",
       "2352  {'media': [{'id': 666029276303482880, 'id_str'...             48   \n",
       "2353  {'media': [{'id': 666020881337073664, 'id_str'...            532   \n",
       "\n",
       "      favorite_count retweeted_status  \\\n",
       "0              39467              NaN   \n",
       "1              33819              NaN   \n",
       "2              25461              NaN   \n",
       "3              42908              NaN   \n",
       "4              41048              NaN   \n",
       "...              ...              ...   \n",
       "2349             111              NaN   \n",
       "2350             311              NaN   \n",
       "2351             128              NaN   \n",
       "2352             132              NaN   \n",
       "2353            2535              NaN   \n",
       "\n",
       "                                                   text  retweeted_status_id  \\\n",
       "0     This is Phineas. He's a mystical boy. Only eve...                  NaN   \n",
       "1     This is Tilly. She's just checking pup on you....                  NaN   \n",
       "2     This is Archie. He is a rare Norwegian Pouncin...                  NaN   \n",
       "3     This is Darla. She commenced a snooze mid meal...                  NaN   \n",
       "4     This is Franklin. He would like you to stop ca...                  NaN   \n",
       "...                                                 ...                  ...   \n",
       "2349  Here we have a 1949 1st generation vulpix. Enj...                  NaN   \n",
       "2350  This is a purebred Piers Morgan. Loves to Netf...                  NaN   \n",
       "2351  Here is a very happy pup. Big fan of well-main...                  NaN   \n",
       "2352  This is a western brown Mitsubishi terrier. Up...                  NaN   \n",
       "2353  Here we have a Japanese Irish Setter. Lost eye...                  NaN   \n",
       "\n",
       "      rating_numerator  rating_denominator      name doggo floofer pupper  \\\n",
       "0                   13                  10   Phineas  None    None   None   \n",
       "1                   13                  10     Tilly  None    None   None   \n",
       "2                   12                  10    Archie  None    None   None   \n",
       "3                   13                  10     Darla  None    None   None   \n",
       "4                   12                  10  Franklin  None    None   None   \n",
       "...                ...                 ...       ...   ...     ...    ...   \n",
       "2349                 5                  10      None  None    None   None   \n",
       "2350                 6                  10         a  None    None   None   \n",
       "2351                 9                  10         a  None    None   None   \n",
       "2352                 7                  10         a  None    None   None   \n",
       "2353                 8                  10      None  None    None   None   \n",
       "\n",
       "     puppo  \n",
       "0     None  \n",
       "1     None  \n",
       "2     None  \n",
       "3     None  \n",
       "4     None  \n",
       "...    ...  \n",
       "2349  None  \n",
       "2350  None  \n",
       "2351  None  \n",
       "2352  None  \n",
       "2353  None  \n",
       "\n",
       "[2354 rows x 15 columns]"
      ]
     },
     "execution_count": 7,
     "metadata": {},
     "output_type": "execute_result"
    }
   ],
   "source": [
    "Assessing_tweet"
   ]
  },
  {
   "cell_type": "markdown",
   "metadata": {},
   "source": [
    "- I notice that we have names that only have (a) \n",
    "- created_at we need the month and year in separated column to use it in visualization\n",
    "- we have missing values in dogs stages need to check \n",
    "- doggo , floofer , pupper and puppo columns need to be variables in one columns called dog_stages"
   ]
  },
  {
   "cell_type": "markdown",
   "metadata": {},
   "source": [
    "<a id='protweet'></a>\n",
    "##### (Assessing_tweet) Programmatic Assessment"
   ]
  },
  {
   "cell_type": "code",
   "execution_count": 8,
   "metadata": {
    "scrolled": true
   },
   "outputs": [
    {
     "name": "stdout",
     "output_type": "stream",
     "text": [
      "<class 'pandas.core.frame.DataFrame'>\n",
      "Int64Index: 2354 entries, 0 to 2353\n",
      "Data columns (total 15 columns):\n",
      " #   Column               Non-Null Count  Dtype              \n",
      "---  ------               --------------  -----              \n",
      " 0   created_at           2354 non-null   datetime64[ns, UTC]\n",
      " 1   id                   2354 non-null   int64              \n",
      " 2   extended_entities    2073 non-null   object             \n",
      " 3   retweet_count        2354 non-null   int64              \n",
      " 4   favorite_count       2354 non-null   int64              \n",
      " 5   retweeted_status     179 non-null    object             \n",
      " 6   text                 2354 non-null   object             \n",
      " 7   retweeted_status_id  179 non-null    float64            \n",
      " 8   rating_numerator     2354 non-null   int64              \n",
      " 9   rating_denominator   2354 non-null   int64              \n",
      " 10  name                 2354 non-null   object             \n",
      " 11  doggo                2354 non-null   object             \n",
      " 12  floofer              2354 non-null   object             \n",
      " 13  pupper               2354 non-null   object             \n",
      " 14  puppo                2354 non-null   object             \n",
      "dtypes: datetime64[ns, UTC](1), float64(1), int64(5), object(8)\n",
      "memory usage: 294.2+ KB\n"
     ]
    }
   ],
   "source": [
    "Assessing_tweet.info()"
   ]
  },
  {
   "cell_type": "markdown",
   "metadata": {},
   "source": [
    "- id should be string not intger\n",
    "- we have 179 tweets that are retweeted need to drop "
   ]
  },
  {
   "cell_type": "code",
   "execution_count": 9,
   "metadata": {
    "scrolled": true
   },
   "outputs": [
    {
     "data": {
      "text/html": [
       "<div>\n",
       "<style scoped>\n",
       "    .dataframe tbody tr th:only-of-type {\n",
       "        vertical-align: middle;\n",
       "    }\n",
       "\n",
       "    .dataframe tbody tr th {\n",
       "        vertical-align: top;\n",
       "    }\n",
       "\n",
       "    .dataframe thead th {\n",
       "        text-align: right;\n",
       "    }\n",
       "</style>\n",
       "<table border=\"1\" class=\"dataframe\">\n",
       "  <thead>\n",
       "    <tr style=\"text-align: right;\">\n",
       "      <th></th>\n",
       "      <th>id</th>\n",
       "      <th>retweet_count</th>\n",
       "      <th>favorite_count</th>\n",
       "      <th>retweeted_status_id</th>\n",
       "      <th>rating_numerator</th>\n",
       "      <th>rating_denominator</th>\n",
       "    </tr>\n",
       "  </thead>\n",
       "  <tbody>\n",
       "    <tr>\n",
       "      <th>count</th>\n",
       "      <td>2.354000e+03</td>\n",
       "      <td>2354.000000</td>\n",
       "      <td>2354.000000</td>\n",
       "      <td>1.790000e+02</td>\n",
       "      <td>2354.000000</td>\n",
       "      <td>2354.00000</td>\n",
       "    </tr>\n",
       "    <tr>\n",
       "      <th>mean</th>\n",
       "      <td>7.426978e+17</td>\n",
       "      <td>3164.797366</td>\n",
       "      <td>8080.968564</td>\n",
       "      <td>7.714009e+17</td>\n",
       "      <td>13.127018</td>\n",
       "      <td>10.45582</td>\n",
       "    </tr>\n",
       "    <tr>\n",
       "      <th>std</th>\n",
       "      <td>6.852812e+16</td>\n",
       "      <td>5284.770364</td>\n",
       "      <td>11814.771334</td>\n",
       "      <td>6.211568e+16</td>\n",
       "      <td>45.896135</td>\n",
       "      <td>6.74809</td>\n",
       "    </tr>\n",
       "    <tr>\n",
       "      <th>min</th>\n",
       "      <td>6.660209e+17</td>\n",
       "      <td>0.000000</td>\n",
       "      <td>0.000000</td>\n",
       "      <td>6.661041e+17</td>\n",
       "      <td>0.000000</td>\n",
       "      <td>0.00000</td>\n",
       "    </tr>\n",
       "    <tr>\n",
       "      <th>25%</th>\n",
       "      <td>6.783975e+17</td>\n",
       "      <td>624.500000</td>\n",
       "      <td>1415.000000</td>\n",
       "      <td>7.157203e+17</td>\n",
       "      <td>10.000000</td>\n",
       "      <td>10.00000</td>\n",
       "    </tr>\n",
       "    <tr>\n",
       "      <th>50%</th>\n",
       "      <td>7.194596e+17</td>\n",
       "      <td>1473.500000</td>\n",
       "      <td>3603.500000</td>\n",
       "      <td>7.804657e+17</td>\n",
       "      <td>11.000000</td>\n",
       "      <td>10.00000</td>\n",
       "    </tr>\n",
       "    <tr>\n",
       "      <th>75%</th>\n",
       "      <td>7.993058e+17</td>\n",
       "      <td>3652.000000</td>\n",
       "      <td>10122.250000</td>\n",
       "      <td>8.201334e+17</td>\n",
       "      <td>12.000000</td>\n",
       "      <td>10.00000</td>\n",
       "    </tr>\n",
       "    <tr>\n",
       "      <th>max</th>\n",
       "      <td>8.924206e+17</td>\n",
       "      <td>79515.000000</td>\n",
       "      <td>132810.000000</td>\n",
       "      <td>8.860537e+17</td>\n",
       "      <td>1776.000000</td>\n",
       "      <td>170.00000</td>\n",
       "    </tr>\n",
       "  </tbody>\n",
       "</table>\n",
       "</div>"
      ],
      "text/plain": [
       "                 id  retweet_count  favorite_count  retweeted_status_id  \\\n",
       "count  2.354000e+03    2354.000000     2354.000000         1.790000e+02   \n",
       "mean   7.426978e+17    3164.797366     8080.968564         7.714009e+17   \n",
       "std    6.852812e+16    5284.770364    11814.771334         6.211568e+16   \n",
       "min    6.660209e+17       0.000000        0.000000         6.661041e+17   \n",
       "25%    6.783975e+17     624.500000     1415.000000         7.157203e+17   \n",
       "50%    7.194596e+17    1473.500000     3603.500000         7.804657e+17   \n",
       "75%    7.993058e+17    3652.000000    10122.250000         8.201334e+17   \n",
       "max    8.924206e+17   79515.000000   132810.000000         8.860537e+17   \n",
       "\n",
       "       rating_numerator  rating_denominator  \n",
       "count       2354.000000          2354.00000  \n",
       "mean          13.127018            10.45582  \n",
       "std           45.896135             6.74809  \n",
       "min            0.000000             0.00000  \n",
       "25%           10.000000            10.00000  \n",
       "50%           11.000000            10.00000  \n",
       "75%           12.000000            10.00000  \n",
       "max         1776.000000           170.00000  "
      ]
     },
     "execution_count": 9,
     "metadata": {},
     "output_type": "execute_result"
    }
   ],
   "source": [
    "Assessing_tweet.describe()"
   ]
  },
  {
   "cell_type": "markdown",
   "metadata": {},
   "source": [
    "* rating_denominator have max value of 170 and min value of 0 should be 10 \n",
    "* we have tweet with no retweet or favorite (will be fixed after merged) "
   ]
  },
  {
   "cell_type": "markdown",
   "metadata": {},
   "source": [
    "##### know I go deep in some columns:"
   ]
  },
  {
   "cell_type": "markdown",
   "metadata": {},
   "source": [
    "1- Rating: "
   ]
  },
  {
   "cell_type": "markdown",
   "metadata": {},
   "source": [
    "see why there are rating_denominator not equal to 10"
   ]
  },
  {
   "cell_type": "code",
   "execution_count": 10,
   "metadata": {},
   "outputs": [
    {
     "name": "stdout",
     "output_type": "stream",
     "text": [
      "312 - @jonnysun @Lin_Manuel ok jomny I know you're excited but 960/00 isn't a valid rating, 13/10 is tho\n",
      "341 - @docmisterio account started on 11/15/15\n",
      "432 - The floofs have been released I repeat the floofs have been released. 84/70 https://t.co/NIYC820tmd\n",
      "515 - Meet Sam. She smiles 24/7 &amp; secretly aspires to be a reindeer. \n",
      "Keep Sam smiling by clicking and sharing this link:\n",
      "https://t.co/98tB8y7y7t https://t.co/LouL5vdvxx\n",
      "783 - RT @dog_rates: After so many requests, this is Bretagne. She was the last surviving 9/11 search dog, and our second ever 14/10. RIP https:/…\n",
      "900 - Why does this never happen at my front door... 165/150 https://t.co/HmwrdfEfUE\n",
      "1066 - After so many requests, this is Bretagne. She was the last surviving 9/11 search dog, and our second ever 14/10. RIP https://t.co/XAVDNDaVgQ\n",
      "1118 - Say hello to this unbelievably well behaved squad of doggos. 204/170 would try to pet all at once https://t.co/yGQI3He3xv\n",
      "1163 - Happy 4/20 from the squad! 13/10 for all https://t.co/eV1diwds8a\n",
      "1200 - This is Bluebert. He just saw that both #FinalFur match ups are split 50/50. Amazed af. 11/10 https://t.co/Kky1DPG4iq\n",
      "1226 - Happy Saturday here's 9 puppers on a bench. 99/90 good work everybody https://t.co/mpvaVxKmc1\n",
      "1252 - Here's a brigade of puppers. All look very prepared for whatever happens next. 80/80 https://t.co/0eb7R1Om12\n",
      "1272 - From left to right:\n",
      "Cletus, Jerome, Alejandro, Burp, &amp; Titson\n",
      "None know where camera is. 45/50 would hug all at once https://t.co/sedre1ivTK\n",
      "1349 - Here is a whole flock of puppers.  60/50 I'll take the lot https://t.co/9dpcw6MdWa\n",
      "1431 - Happy Wednesday here's a bucket of pups. 44/40 would pet all at once https://t.co/HppvrYuamZ\n",
      "1596 - Yes I do realize a rating of 4/20 would've been fitting. However, it would be unjust to give these cooperative pups that low of a rating\n",
      "1632 - Two sneaky puppers were not initially seen, moving the rating to 143/130. Please forgive us. Thank you https://t.co/kRK51Y5ac3\n",
      "1633 - Someone help the girl is being mugged. Several are distracting her while two steal her shoes. Clever puppers 121/110 https://t.co/1zfnTJLt55\n",
      "1660 - This is Darrel. He just robbed a 7/11 and is in a high speed police chase. Was just spotted by the helicopter 10/10 https://t.co/7EsP8LmSp5\n",
      "1661 - I'm aware that I could've said 20/16, but here at WeRateDogs we are very professional. An inconsistent rating scale is simply irresponsible\n",
      "1777 - IT'S PUPPERGEDDON. Total of 144/120 ...I think https://t.co/ZanVtAtvIq\n",
      "1841 - Here we have an entire platoon of puppers. Total score: 88/80 would pet all at once https://t.co/y93p6FLvVw\n",
      "2333 - This is an Albanian 3 1/2 legged  Episcopalian. Loves well-polished hardwood flooring. Penis on the collar. 9/10 https://t.co/d9NcXFKwLv\n"
     ]
    }
   ],
   "source": [
    "# store index rows that have rating_denominator not equal 10  \n",
    "not_ten = list(Assessing_tweet[Assessing_tweet['rating_denominator'] != 10].index)\n",
    "\n",
    "# displays their text to absorave the issues\n",
    "for i in not_ten:\n",
    "    print(i , '-',Assessing_tweet['text'][i])"
   ]
  },
  {
   "cell_type": "markdown",
   "metadata": {},
   "source": [
    "#### it seems that extractor extract the number before and after first / \n",
    "we have rating_denominator that not equal 10 and it seems that many reasons: \n",
    "* The rating includes more than one dog\n",
    "*  There where date or not actual rating (joking) that contain / before the rating \n",
    "* some tweet is not dog tweet (it will be fixed when I merge the data frame with images data frame)"
   ]
  },
  {
   "cell_type": "markdown",
   "metadata": {},
   "source": [
    "Try to find pattren to make rating clean easier"
   ]
  },
  {
   "cell_type": "code",
   "execution_count": 11,
   "metadata": {
    "scrolled": true
   },
   "outputs": [
    {
     "name": "stdout",
     "output_type": "stream",
     "text": [
      "432 - The floofs have been released I repeat the floofs have been released. 84/70 https://t.co/NIYC820tmd\n",
      "900 - Why does this never happen at my front door... 165/150 https://t.co/HmwrdfEfUE\n",
      "1118 - Say hello to this unbelievably well behaved squad of doggos. 204/170 would try to pet all at once https://t.co/yGQI3He3xv\n",
      "1200 - This is Bluebert. He just saw that both #FinalFur match ups are split 50/50. Amazed af. 11/10 https://t.co/Kky1DPG4iq\n",
      "1226 - Happy Saturday here's 9 puppers on a bench. 99/90 good work everybody https://t.co/mpvaVxKmc1\n",
      "1252 - Here's a brigade of puppers. All look very prepared for whatever happens next. 80/80 https://t.co/0eb7R1Om12\n",
      "1272 - From left to right:\n",
      "Cletus, Jerome, Alejandro, Burp, &amp; Titson\n",
      "None know where camera is. 45/50 would hug all at once https://t.co/sedre1ivTK\n",
      "1349 - Here is a whole flock of puppers.  60/50 I'll take the lot https://t.co/9dpcw6MdWa\n",
      "1431 - Happy Wednesday here's a bucket of pups. 44/40 would pet all at once https://t.co/HppvrYuamZ\n",
      "1632 - Two sneaky puppers were not initially seen, moving the rating to 143/130. Please forgive us. Thank you https://t.co/kRK51Y5ac3\n",
      "1633 - Someone help the girl is being mugged. Several are distracting her while two steal her shoes. Clever puppers 121/110 https://t.co/1zfnTJLt55\n",
      "1777 - IT'S PUPPERGEDDON. Total of 144/120 ...I think https://t.co/ZanVtAtvIq\n",
      "1841 - Here we have an entire platoon of puppers. Total score: 88/80 would pet all at once https://t.co/y93p6FLvVw\n"
     ]
    }
   ],
   "source": [
    "# i tried more than rating number to isolated the rating that for more than one dog and i find that 40 is the answer  \n",
    "above_40 = list(Assessing_tweet[Assessing_tweet['rating_denominator'] >= 40].index)\n",
    "\n",
    "# displays their text to absorave the issues\n",
    "for i in above_40:\n",
    "    print(i , '-',Assessing_tweet['text'][i])"
   ]
  },
  {
   "cell_type": "markdown",
   "metadata": {},
   "source": [
    "* any tweet have more than 40 in rating_denominator include more than one dog\n",
    "* index 1200 have more than 50 but have wrog value "
   ]
  },
  {
   "cell_type": "code",
   "execution_count": 12,
   "metadata": {
    "scrolled": true
   },
   "outputs": [
    {
     "data": {
      "text/plain": [
       "716439118184652801"
      ]
     },
     "execution_count": 12,
     "metadata": {},
     "output_type": "execute_result"
    }
   ],
   "source": [
    "# find index 1200 index:\n",
    "Assessing_tweet['id'][1200]"
   ]
  },
  {
   "cell_type": "markdown",
   "metadata": {},
   "source": [
    "* id = 716439118184652801 have more than 50 but have wrog value "
   ]
  },
  {
   "cell_type": "markdown",
   "metadata": {},
   "source": [
    "Lets see the other rating_denominator that less than 40 and not 10 "
   ]
  },
  {
   "cell_type": "code",
   "execution_count": 13,
   "metadata": {},
   "outputs": [
    {
     "name": "stdout",
     "output_type": "stream",
     "text": [
      "312 - @jonnysun @Lin_Manuel ok jomny I know you're excited but 960/00 isn't a valid rating, 13/10 is tho\n",
      "341 - @docmisterio account started on 11/15/15\n",
      "515 - Meet Sam. She smiles 24/7 &amp; secretly aspires to be a reindeer. \n",
      "Keep Sam smiling by clicking and sharing this link:\n",
      "https://t.co/98tB8y7y7t https://t.co/LouL5vdvxx\n",
      "783 - RT @dog_rates: After so many requests, this is Bretagne. She was the last surviving 9/11 search dog, and our second ever 14/10. RIP https:/…\n",
      "1066 - After so many requests, this is Bretagne. She was the last surviving 9/11 search dog, and our second ever 14/10. RIP https://t.co/XAVDNDaVgQ\n",
      "1163 - Happy 4/20 from the squad! 13/10 for all https://t.co/eV1diwds8a\n",
      "1596 - Yes I do realize a rating of 4/20 would've been fitting. However, it would be unjust to give these cooperative pups that low of a rating\n",
      "1660 - This is Darrel. He just robbed a 7/11 and is in a high speed police chase. Was just spotted by the helicopter 10/10 https://t.co/7EsP8LmSp5\n",
      "1661 - I'm aware that I could've said 20/16, but here at WeRateDogs we are very professional. An inconsistent rating scale is simply irresponsible\n",
      "2333 - This is an Albanian 3 1/2 legged  Episcopalian. Loves well-polished hardwood flooring. Penis on the collar. 9/10 https://t.co/d9NcXFKwLv\n"
     ]
    }
   ],
   "source": [
    "# rows that have rating denominator that less than 40 and not 10  \n",
    "other_rating = (list(Assessing_tweet[(Assessing_tweet['rating_denominator'] < 40)&(Assessing_tweet['rating_denominator'] != 10)].index) )\n",
    "\n",
    "# displays their text to absorave the issues\n",
    "for i in other_rating:\n",
    "    print(i , '-',Assessing_tweet['text'][i])"
   ]
  },
  {
   "cell_type": "markdown",
   "metadata": {},
   "source": [
    "* Any dog than have less than 40 and not equal to 10 rating_denominator the tweet have date or not actual rating (joking) that contain / before the rating \n",
    "* index 515 with name of sam has no rating\n",
    "* some tweet are not rating it will be dropped when i merge the images data frame to this data frame"
   ]
  },
  {
   "cell_type": "code",
   "execution_count": 14,
   "metadata": {},
   "outputs": [
    {
     "data": {
      "text/plain": [
       "810984652412424192"
      ]
     },
     "execution_count": 14,
     "metadata": {},
     "output_type": "execute_result"
    }
   ],
   "source": [
    "# find index 515 index:\n",
    "Assessing_tweet['id'][515]"
   ]
  },
  {
   "cell_type": "markdown",
   "metadata": {},
   "source": [
    "enough of rating_denominator lets see the rating_numerator: "
   ]
  },
  {
   "cell_type": "markdown",
   "metadata": {},
   "source": [
    "lets check the text of high rating and the low ones: "
   ]
  },
  {
   "cell_type": "code",
   "execution_count": 15,
   "metadata": {},
   "outputs": [
    {
     "name": "stdout",
     "output_type": "stream",
     "text": [
      "187 - @dhmontgomery We also gave snoop dogg a 420/10 but I think that predated your research\n",
      "188 - @s8n You tried very hard to portray this good boy as not so good, but you have ultimately failed. His goodness shines through. 666/10\n",
      "289 - @markhoppus 182/10\n",
      "339 - RT @dog_rates: This is Logan, the Chow who lived. He solemnly swears he's up to lots of good. H*ckin magical af 9.75/10 https://t.co/yBO5wu…\n",
      "694 - This is Logan, the Chow who lived. He solemnly swears he's up to lots of good. H*ckin magical af 9.75/10 https://t.co/yBO5wuqaPS\n",
      "762 - This is Sophie. She's a Jubilant Bush Pupper. Super h*ckin rare. Appears at random just to smile at the locals. 11.27/10 would smile back https://t.co/QFaUiIHxHq\n",
      "977 - This is Atticus. He's quite simply America af. 1776/10 https://t.co/GRXwMxLBkh\n",
      "1710 - Here we have uncovered an entire battalion of holiday puppers. Average of 11.26/10 https://t.co/eNm2S6p9BD\n",
      "2072 - After so many requests... here you go.\n",
      "\n",
      "Good dogg. 420/10 https://t.co/yfAAo1gdeY\n"
     ]
    }
   ],
   "source": [
    "# rows that have rating numerator that taht more than 20   \n",
    "above_20 = list(Assessing_tweet[(Assessing_tweet['rating_numerator'] > 20)&(Assessing_tweet['rating_denominator'] == 10)].index)\n",
    "\n",
    "# displays their text to absorave the issues\n",
    "for i in above_20:\n",
    "    print(i , '-',Assessing_tweet['text'][i])"
   ]
  },
  {
   "cell_type": "markdown",
   "metadata": {},
   "source": [
    "* some rating_numerator  have decimal value are becoming invalid because it took numbers after the digit\n",
    "* rating_numerator need to be converted to float"
   ]
  },
  {
   "cell_type": "code",
   "execution_count": 16,
   "metadata": {},
   "outputs": [
    {
     "name": "stdout",
     "output_type": "stream",
     "text": [
      "314 - When you're so blinded by your systematic plagiarism that you forget what day it is. 0/10 https://t.co/YbEJPkg4Ag\n",
      "604 - RT @dog_rates: Not familiar with this breed. No tail (weird). Only 2 legs. Doesn't bark. Surprisingly quick. Shits eggs. 1/10 https://t.co/…\n",
      "1014 - PUPDATE: can't see any. Even if I could, I couldn't reach them to pet. 0/10 much disappointment https://t.co/c7WXaB2nqX\n",
      "1444 - After reading the comments I may have overestimated this pup. Downgraded to a 1/10. Please forgive me\n",
      "1867 - What kind of person sends in a picture without a dog in it? 1/10 just because that's a nice table https://t.co/RDXCfk8hK0\n",
      "1938 - The millennials have spoken and we've decided to immediately demote to a 1/10. Thank you\n",
      "2036 - After 22 minutes of careful deliberation this dog is being demoted to a 1/10. The longer you look at him the more terrifying he becomes\n",
      "2089 - Flamboyant pup here. Probably poisonous. Won't eat kibble. Doesn't bark. Slow af. Petting doesn't look fun. 1/10 https://t.co/jxukeh2BeO\n",
      "2259 - Never seen dog like this. Breathes heavy. Tilts head in a pattern. No bark. Shitty at fetch. Not even cordless. 1/10 https://t.co/i9iSGNn3fx\n",
      "2336 - Not familiar with this breed. No tail (weird). Only 2 legs. Doesn't bark. Surprisingly quick. Shits eggs. 1/10 https://t.co/Asgdc6kuLX\n"
     ]
    }
   ],
   "source": [
    "# rows that have rating numerator that taht more less 2   \n",
    "less_2 = list(Assessing_tweet[(Assessing_tweet['rating_numerator'] < 2 )&(Assessing_tweet['rating_denominator'] == 10)].index)\n",
    "\n",
    "# displays their text to absorave the issues\n",
    "for i in less_2:\n",
    "    print(i , '-',Assessing_tweet['text'][i])"
   ]
  },
  {
   "cell_type": "markdown",
   "metadata": {},
   "source": [
    "- some rating have zero witch doesnt make snece need to be check"
   ]
  },
  {
   "cell_type": "markdown",
   "metadata": {},
   "source": [
    "2- names: "
   ]
  },
  {
   "cell_type": "code",
   "execution_count": 17,
   "metadata": {},
   "outputs": [
    {
     "data": {
      "text/plain": [
       "None        744\n",
       "a            55\n",
       "Charlie      12\n",
       "Lucy         11\n",
       "Oliver       11\n",
       "           ... \n",
       "Berkeley      1\n",
       "Orion         1\n",
       "Todo          1\n",
       "Beckham       1\n",
       "Maxwell       1\n",
       "Name: name, Length: 957, dtype: int64"
      ]
     },
     "execution_count": 17,
     "metadata": {},
     "output_type": "execute_result"
    }
   ],
   "source": [
    "Assessing_tweet['name'].value_counts()"
   ]
  },
  {
   "cell_type": "markdown",
   "metadata": {},
   "source": [
    "check the names that have a"
   ]
  },
  {
   "cell_type": "code",
   "execution_count": 18,
   "metadata": {},
   "outputs": [
    {
     "data": {
      "text/plain": [
       "'This is a mighty rare blue-tailed hammer sherk. Human almost lost a limb trying to take these. Be careful guys. 8/10 https://t.co/TGenMeXreW'"
      ]
     },
     "execution_count": 18,
     "metadata": {},
     "output_type": "execute_result"
    }
   ],
   "source": [
    "Assessing_tweet[Assessing_tweet['name'] == 'a'].text[1000]"
   ]
  },
  {
   "cell_type": "markdown",
   "metadata": {},
   "source": [
    "- it seems names was extracted after the substring 'this is' and some tweet has (a) after 'is'\n",
    "> the problem in is case the (a) followed by adjective not name which make it so hard but I notice that many texts contain named after the adj so I use these also i will check other names that have lower case."
   ]
  },
  {
   "cell_type": "markdown",
   "metadata": {},
   "source": [
    "check names that have lower case also: "
   ]
  },
  {
   "cell_type": "code",
   "execution_count": 19,
   "metadata": {
    "scrolled": true
   },
   "outputs": [
    {
     "data": {
      "text/plain": [
       "a               55\n",
       "the              8\n",
       "an               7\n",
       "very             5\n",
       "one              4\n",
       "just             4\n",
       "quite            4\n",
       "getting          2\n",
       "actually         2\n",
       "not              2\n",
       "mad              2\n",
       "such             1\n",
       "space            1\n",
       "unacceptable     1\n",
       "incredibly       1\n",
       "this             1\n",
       "old              1\n",
       "infuriating      1\n",
       "his              1\n",
       "officially       1\n",
       "by               1\n",
       "life             1\n",
       "all              1\n",
       "light            1\n",
       "my               1\n",
       "Name: name, dtype: int64"
      ]
     },
     "execution_count": 19,
     "metadata": {},
     "output_type": "execute_result"
    }
   ],
   "source": [
    "Assessing_tweet[Assessing_tweet['name'].str.islower()]['name'].value_counts()"
   ]
  },
  {
   "cell_type": "markdown",
   "metadata": {},
   "source": [
    "not onaly (a) there alot of name tht are not corrcted"
   ]
  },
  {
   "cell_type": "markdown",
   "metadata": {},
   "source": [
    "3- checking dog stages"
   ]
  },
  {
   "cell_type": "code",
   "execution_count": 20,
   "metadata": {},
   "outputs": [
    {
     "data": {
      "text/plain": [
       "10"
      ]
     },
     "execution_count": 20,
     "metadata": {},
     "output_type": "execute_result"
    }
   ],
   "source": [
    "## see how many null value in doggo:\n",
    "(Assessing_tweet['floofer'] != 'None').sum()"
   ]
  },
  {
   "cell_type": "code",
   "execution_count": 21,
   "metadata": {},
   "outputs": [
    {
     "data": {
      "text/plain": [
       "41"
      ]
     },
     "execution_count": 21,
     "metadata": {},
     "output_type": "execute_result"
    }
   ],
   "source": [
    "## see how many doggo value in the text:\n",
    "counter = 0\n",
    "for i in Assessing_tweet.index:\n",
    "    if(('floof' in Assessing_tweet['text'][i])|('Floof' in Assessing_tweet['text'][i])):\n",
    "        counter += 1\n",
    "        \n",
    "counter   "
   ]
  },
  {
   "cell_type": "markdown",
   "metadata": {},
   "source": [
    "* not all dog stages have extracted right i think the lowwer and upper cases have effected this so text need to be in lowewr case to extract more effictivly. "
   ]
  },
  {
   "cell_type": "markdown",
   "metadata": {},
   "source": [
    "4- extended_entities:"
   ]
  },
  {
   "cell_type": "code",
   "execution_count": 22,
   "metadata": {},
   "outputs": [
    {
     "data": {
      "text/plain": [
       "{'media': [{'id': 892420639486877696,\n",
       "   'id_str': '892420639486877696',\n",
       "   'indices': [86, 109],\n",
       "   'media_url': 'http://pbs.twimg.com/media/DGKD1-bXoAAIAUK.jpg',\n",
       "   'media_url_https': 'https://pbs.twimg.com/media/DGKD1-bXoAAIAUK.jpg',\n",
       "   'url': 'https://t.co/MgUWQ76dJU',\n",
       "   'display_url': 'pic.twitter.com/MgUWQ76dJU',\n",
       "   'expanded_url': 'https://twitter.com/dog_rates/status/892420643555336193/photo/1',\n",
       "   'type': 'photo',\n",
       "   'sizes': {'large': {'w': 540, 'h': 528, 'resize': 'fit'},\n",
       "    'thumb': {'w': 150, 'h': 150, 'resize': 'crop'},\n",
       "    'small': {'w': 540, 'h': 528, 'resize': 'fit'},\n",
       "    'medium': {'w': 540, 'h': 528, 'resize': 'fit'}}}]}"
      ]
     },
     "execution_count": 22,
     "metadata": {},
     "output_type": "execute_result"
    }
   ],
   "source": [
    "Assessing_tweet['extended_entities'][0]"
   ]
  },
  {
   "cell_type": "markdown",
   "metadata": {},
   "source": [
    "- we only need the tweet url from this so we can go back to the source if needed"
   ]
  },
  {
   "cell_type": "markdown",
   "metadata": {},
   "source": [
    "<a id='visimg'></a>\n",
    "##### (images_df) Visual Assessment "
   ]
  },
  {
   "cell_type": "code",
   "execution_count": 23,
   "metadata": {},
   "outputs": [
    {
     "data": {
      "text/html": [
       "<div>\n",
       "<style scoped>\n",
       "    .dataframe tbody tr th:only-of-type {\n",
       "        vertical-align: middle;\n",
       "    }\n",
       "\n",
       "    .dataframe tbody tr th {\n",
       "        vertical-align: top;\n",
       "    }\n",
       "\n",
       "    .dataframe thead th {\n",
       "        text-align: right;\n",
       "    }\n",
       "</style>\n",
       "<table border=\"1\" class=\"dataframe\">\n",
       "  <thead>\n",
       "    <tr style=\"text-align: right;\">\n",
       "      <th></th>\n",
       "      <th>tweet_id</th>\n",
       "      <th>jpg_url</th>\n",
       "      <th>img_num</th>\n",
       "      <th>p1</th>\n",
       "      <th>p1_conf</th>\n",
       "      <th>p1_dog</th>\n",
       "      <th>p2</th>\n",
       "      <th>p2_conf</th>\n",
       "      <th>p2_dog</th>\n",
       "      <th>p3</th>\n",
       "      <th>p3_conf</th>\n",
       "      <th>p3_dog</th>\n",
       "    </tr>\n",
       "  </thead>\n",
       "  <tbody>\n",
       "    <tr>\n",
       "      <th>0</th>\n",
       "      <td>666020888022790149</td>\n",
       "      <td>https://pbs.twimg.com/media/CT4udn0WwAA0aMy.jpg</td>\n",
       "      <td>1</td>\n",
       "      <td>Welsh_springer_spaniel</td>\n",
       "      <td>0.465074</td>\n",
       "      <td>True</td>\n",
       "      <td>collie</td>\n",
       "      <td>0.156665</td>\n",
       "      <td>True</td>\n",
       "      <td>Shetland_sheepdog</td>\n",
       "      <td>0.061428</td>\n",
       "      <td>True</td>\n",
       "    </tr>\n",
       "    <tr>\n",
       "      <th>1</th>\n",
       "      <td>666029285002620928</td>\n",
       "      <td>https://pbs.twimg.com/media/CT42GRgUYAA5iDo.jpg</td>\n",
       "      <td>1</td>\n",
       "      <td>redbone</td>\n",
       "      <td>0.506826</td>\n",
       "      <td>True</td>\n",
       "      <td>miniature_pinscher</td>\n",
       "      <td>0.074192</td>\n",
       "      <td>True</td>\n",
       "      <td>Rhodesian_ridgeback</td>\n",
       "      <td>0.072010</td>\n",
       "      <td>True</td>\n",
       "    </tr>\n",
       "    <tr>\n",
       "      <th>2</th>\n",
       "      <td>666033412701032449</td>\n",
       "      <td>https://pbs.twimg.com/media/CT4521TWwAEvMyu.jpg</td>\n",
       "      <td>1</td>\n",
       "      <td>German_shepherd</td>\n",
       "      <td>0.596461</td>\n",
       "      <td>True</td>\n",
       "      <td>malinois</td>\n",
       "      <td>0.138584</td>\n",
       "      <td>True</td>\n",
       "      <td>bloodhound</td>\n",
       "      <td>0.116197</td>\n",
       "      <td>True</td>\n",
       "    </tr>\n",
       "    <tr>\n",
       "      <th>3</th>\n",
       "      <td>666044226329800704</td>\n",
       "      <td>https://pbs.twimg.com/media/CT5Dr8HUEAA-lEu.jpg</td>\n",
       "      <td>1</td>\n",
       "      <td>Rhodesian_ridgeback</td>\n",
       "      <td>0.408143</td>\n",
       "      <td>True</td>\n",
       "      <td>redbone</td>\n",
       "      <td>0.360687</td>\n",
       "      <td>True</td>\n",
       "      <td>miniature_pinscher</td>\n",
       "      <td>0.222752</td>\n",
       "      <td>True</td>\n",
       "    </tr>\n",
       "    <tr>\n",
       "      <th>4</th>\n",
       "      <td>666049248165822465</td>\n",
       "      <td>https://pbs.twimg.com/media/CT5IQmsXIAAKY4A.jpg</td>\n",
       "      <td>1</td>\n",
       "      <td>miniature_pinscher</td>\n",
       "      <td>0.560311</td>\n",
       "      <td>True</td>\n",
       "      <td>Rottweiler</td>\n",
       "      <td>0.243682</td>\n",
       "      <td>True</td>\n",
       "      <td>Doberman</td>\n",
       "      <td>0.154629</td>\n",
       "      <td>True</td>\n",
       "    </tr>\n",
       "    <tr>\n",
       "      <th>...</th>\n",
       "      <td>...</td>\n",
       "      <td>...</td>\n",
       "      <td>...</td>\n",
       "      <td>...</td>\n",
       "      <td>...</td>\n",
       "      <td>...</td>\n",
       "      <td>...</td>\n",
       "      <td>...</td>\n",
       "      <td>...</td>\n",
       "      <td>...</td>\n",
       "      <td>...</td>\n",
       "      <td>...</td>\n",
       "    </tr>\n",
       "    <tr>\n",
       "      <th>2070</th>\n",
       "      <td>891327558926688256</td>\n",
       "      <td>https://pbs.twimg.com/media/DF6hr6BUMAAzZgT.jpg</td>\n",
       "      <td>2</td>\n",
       "      <td>basset</td>\n",
       "      <td>0.555712</td>\n",
       "      <td>True</td>\n",
       "      <td>English_springer</td>\n",
       "      <td>0.225770</td>\n",
       "      <td>True</td>\n",
       "      <td>German_short-haired_pointer</td>\n",
       "      <td>0.175219</td>\n",
       "      <td>True</td>\n",
       "    </tr>\n",
       "    <tr>\n",
       "      <th>2071</th>\n",
       "      <td>891689557279858688</td>\n",
       "      <td>https://pbs.twimg.com/media/DF_q7IAWsAEuuN8.jpg</td>\n",
       "      <td>1</td>\n",
       "      <td>paper_towel</td>\n",
       "      <td>0.170278</td>\n",
       "      <td>False</td>\n",
       "      <td>Labrador_retriever</td>\n",
       "      <td>0.168086</td>\n",
       "      <td>True</td>\n",
       "      <td>spatula</td>\n",
       "      <td>0.040836</td>\n",
       "      <td>False</td>\n",
       "    </tr>\n",
       "    <tr>\n",
       "      <th>2072</th>\n",
       "      <td>891815181378084864</td>\n",
       "      <td>https://pbs.twimg.com/media/DGBdLU1WsAANxJ9.jpg</td>\n",
       "      <td>1</td>\n",
       "      <td>Chihuahua</td>\n",
       "      <td>0.716012</td>\n",
       "      <td>True</td>\n",
       "      <td>malamute</td>\n",
       "      <td>0.078253</td>\n",
       "      <td>True</td>\n",
       "      <td>kelpie</td>\n",
       "      <td>0.031379</td>\n",
       "      <td>True</td>\n",
       "    </tr>\n",
       "    <tr>\n",
       "      <th>2073</th>\n",
       "      <td>892177421306343426</td>\n",
       "      <td>https://pbs.twimg.com/media/DGGmoV4XsAAUL6n.jpg</td>\n",
       "      <td>1</td>\n",
       "      <td>Chihuahua</td>\n",
       "      <td>0.323581</td>\n",
       "      <td>True</td>\n",
       "      <td>Pekinese</td>\n",
       "      <td>0.090647</td>\n",
       "      <td>True</td>\n",
       "      <td>papillon</td>\n",
       "      <td>0.068957</td>\n",
       "      <td>True</td>\n",
       "    </tr>\n",
       "    <tr>\n",
       "      <th>2074</th>\n",
       "      <td>892420643555336193</td>\n",
       "      <td>https://pbs.twimg.com/media/DGKD1-bXoAAIAUK.jpg</td>\n",
       "      <td>1</td>\n",
       "      <td>orange</td>\n",
       "      <td>0.097049</td>\n",
       "      <td>False</td>\n",
       "      <td>bagel</td>\n",
       "      <td>0.085851</td>\n",
       "      <td>False</td>\n",
       "      <td>banana</td>\n",
       "      <td>0.076110</td>\n",
       "      <td>False</td>\n",
       "    </tr>\n",
       "  </tbody>\n",
       "</table>\n",
       "<p>2075 rows × 12 columns</p>\n",
       "</div>"
      ],
      "text/plain": [
       "                tweet_id                                          jpg_url  \\\n",
       "0     666020888022790149  https://pbs.twimg.com/media/CT4udn0WwAA0aMy.jpg   \n",
       "1     666029285002620928  https://pbs.twimg.com/media/CT42GRgUYAA5iDo.jpg   \n",
       "2     666033412701032449  https://pbs.twimg.com/media/CT4521TWwAEvMyu.jpg   \n",
       "3     666044226329800704  https://pbs.twimg.com/media/CT5Dr8HUEAA-lEu.jpg   \n",
       "4     666049248165822465  https://pbs.twimg.com/media/CT5IQmsXIAAKY4A.jpg   \n",
       "...                  ...                                              ...   \n",
       "2070  891327558926688256  https://pbs.twimg.com/media/DF6hr6BUMAAzZgT.jpg   \n",
       "2071  891689557279858688  https://pbs.twimg.com/media/DF_q7IAWsAEuuN8.jpg   \n",
       "2072  891815181378084864  https://pbs.twimg.com/media/DGBdLU1WsAANxJ9.jpg   \n",
       "2073  892177421306343426  https://pbs.twimg.com/media/DGGmoV4XsAAUL6n.jpg   \n",
       "2074  892420643555336193  https://pbs.twimg.com/media/DGKD1-bXoAAIAUK.jpg   \n",
       "\n",
       "      img_num                      p1   p1_conf  p1_dog                  p2  \\\n",
       "0           1  Welsh_springer_spaniel  0.465074    True              collie   \n",
       "1           1                 redbone  0.506826    True  miniature_pinscher   \n",
       "2           1         German_shepherd  0.596461    True            malinois   \n",
       "3           1     Rhodesian_ridgeback  0.408143    True             redbone   \n",
       "4           1      miniature_pinscher  0.560311    True          Rottweiler   \n",
       "...       ...                     ...       ...     ...                 ...   \n",
       "2070        2                  basset  0.555712    True    English_springer   \n",
       "2071        1             paper_towel  0.170278   False  Labrador_retriever   \n",
       "2072        1               Chihuahua  0.716012    True            malamute   \n",
       "2073        1               Chihuahua  0.323581    True            Pekinese   \n",
       "2074        1                  orange  0.097049   False               bagel   \n",
       "\n",
       "       p2_conf  p2_dog                           p3   p3_conf  p3_dog  \n",
       "0     0.156665    True            Shetland_sheepdog  0.061428    True  \n",
       "1     0.074192    True          Rhodesian_ridgeback  0.072010    True  \n",
       "2     0.138584    True                   bloodhound  0.116197    True  \n",
       "3     0.360687    True           miniature_pinscher  0.222752    True  \n",
       "4     0.243682    True                     Doberman  0.154629    True  \n",
       "...        ...     ...                          ...       ...     ...  \n",
       "2070  0.225770    True  German_short-haired_pointer  0.175219    True  \n",
       "2071  0.168086    True                      spatula  0.040836   False  \n",
       "2072  0.078253    True                       kelpie  0.031379    True  \n",
       "2073  0.090647    True                     papillon  0.068957    True  \n",
       "2074  0.085851   False                       banana  0.076110   False  \n",
       "\n",
       "[2075 rows x 12 columns]"
      ]
     },
     "execution_count": 23,
     "metadata": {},
     "output_type": "execute_result"
    }
   ],
   "source": [
    "images_df"
   ]
  },
  {
   "cell_type": "markdown",
   "metadata": {},
   "source": [
    "* There are some rows that all algorithms agree to be not a dog so needs to be dropped \n",
    "* the highest algorithm conf of the dog type need to be in new columns named dog type "
   ]
  },
  {
   "cell_type": "markdown",
   "metadata": {},
   "source": [
    "<a id='proimg'></a>\n",
    "##### (images_df) Programmatic Assessment"
   ]
  },
  {
   "cell_type": "code",
   "execution_count": 24,
   "metadata": {
    "scrolled": true
   },
   "outputs": [
    {
     "data": {
      "text/plain": [
       "324"
      ]
     },
     "execution_count": 24,
     "metadata": {},
     "output_type": "execute_result"
    }
   ],
   "source": [
    "# see how many tweet are not dog tweet\n",
    "((images_df['p1_dog'] == False)& (images_df['p2_dog'] == False) & (images_df['p3_dog'] == False)).sum()"
   ]
  },
  {
   "cell_type": "markdown",
   "metadata": {},
   "source": [
    "* we have 324 rows that they are not dog , needed to be dropped"
   ]
  },
  {
   "cell_type": "markdown",
   "metadata": {},
   "source": [
    "<a id='Assessmentsum'></a>\n",
    "### Assessment summary : "
   ]
  },
  {
   "cell_type": "markdown",
   "metadata": {},
   "source": [
    "### Quality: "
   ]
  },
  {
   "cell_type": "markdown",
   "metadata": {},
   "source": [
    "**Assessing_tweet table:** \n",
    "* id is intger intger not string.\n",
    "* text have inconsistent format (lowercase and uppercase).\n",
    "* there are 179 tweets that are retweeted.\n",
    "* tweets that have more than 40 in rating_denominator include more than one dog.\n",
    "* id:716439118184652801 have more than 40 in rating_denominator but include one dog.\n",
    "* tweets that have less than 40 and not equal to 10 rating_denominator contain slash before the rating slash. \n",
    "* id:810984652412424192 has no rating\n",
    "* rating_numerator is intger not float.\n",
    "* some tweet have rating_numerator as decimal value.\n",
    "* some tweet have rating_numerator as zero\n",
    "* some name have name of (a) and other with lower case.\n",
    "* dog stage in text more than in each doggo,floofer,pupper,and puppo variables.\n",
    "\n",
    "**images table:** \n",
    "* in some cases all algorithms agreed that a tweet is not dog rating tweet.\n",
    "* no column for the dog type based on highest algorithm prediction."
   ]
  },
  {
   "cell_type": "markdown",
   "metadata": {},
   "source": [
    "### Tidiness:"
   ]
  },
  {
   "cell_type": "markdown",
   "metadata": {},
   "source": [
    "**Assessing_tweet table:**\n",
    "* month and year in created_at are not separated.\n",
    "* doggo,floofer,pupper,and puppo variables are not in one column.\n",
    "* tweet url inside extended_entities are not in spareted column. "
   ]
  },
  {
   "cell_type": "markdown",
   "metadata": {},
   "source": [
    "<a id='Cleaning'></a> \n",
    "### Cleaning Data\n",
    "<ul>\n",
    "<li><a href=\"#imageCleaning\">cleaning image data frame</a></li>\n",
    "<li><a href=\"#tweetCleaning\">cleaning  tweet data frame</a></li>\n",
    "</ul>"
   ]
  },
  {
   "cell_type": "code",
   "execution_count": 25,
   "metadata": {},
   "outputs": [],
   "source": [
    "# taking copy for each data so we can go back to the messy data after cleaning\n",
    "cleaning_tweet = Assessing_tweet.copy()\n",
    "cleaning_image = images_df.copy()"
   ]
  },
  {
   "cell_type": "markdown",
   "metadata": {},
   "source": [
    "<a id='imageCleaning'></a> \n",
    "#### 1- cleaning  image data frame"
   ]
  },
  {
   "cell_type": "code",
   "execution_count": 26,
   "metadata": {},
   "outputs": [
    {
     "name": "stdout",
     "output_type": "stream",
     "text": [
      "<class 'pandas.core.frame.DataFrame'>\n",
      "RangeIndex: 2075 entries, 0 to 2074\n",
      "Data columns (total 12 columns):\n",
      " #   Column    Non-Null Count  Dtype  \n",
      "---  ------    --------------  -----  \n",
      " 0   tweet_id  2075 non-null   int64  \n",
      " 1   jpg_url   2075 non-null   object \n",
      " 2   img_num   2075 non-null   int64  \n",
      " 3   p1        2075 non-null   object \n",
      " 4   p1_conf   2075 non-null   float64\n",
      " 5   p1_dog    2075 non-null   bool   \n",
      " 6   p2        2075 non-null   object \n",
      " 7   p2_conf   2075 non-null   float64\n",
      " 8   p2_dog    2075 non-null   bool   \n",
      " 9   p3        2075 non-null   object \n",
      " 10  p3_conf   2075 non-null   float64\n",
      " 11  p3_dog    2075 non-null   bool   \n",
      "dtypes: bool(3), float64(3), int64(2), object(4)\n",
      "memory usage: 152.1+ KB\n"
     ]
    }
   ],
   "source": [
    "cleaning_image.info()"
   ]
  },
  {
   "cell_type": "markdown",
   "metadata": {},
   "source": [
    "##### Define:\n",
    "##### drop any tweet that have agreement from all three algorithms that is not dog."
   ]
  },
  {
   "cell_type": "markdown",
   "metadata": {},
   "source": [
    "##### code:"
   ]
  },
  {
   "cell_type": "code",
   "execution_count": 27,
   "metadata": {},
   "outputs": [],
   "source": [
    "# fliter out any tweet that have three false in p_dog\n",
    "cleaning_image = cleaning_image[(cleaning_image['p1_dog'] == True) | (cleaning_image['p2_dog'] == True) \n",
    "                    | (cleaning_image['p3_dog'] == True) ]"
   ]
  },
  {
   "cell_type": "markdown",
   "metadata": {},
   "source": [
    "##### test:"
   ]
  },
  {
   "cell_type": "code",
   "execution_count": 28,
   "metadata": {},
   "outputs": [
    {
     "data": {
      "text/plain": [
       "0"
      ]
     },
     "execution_count": 28,
     "metadata": {},
     "output_type": "execute_result"
    }
   ],
   "source": [
    "# test if the code worked: \n",
    "((cleaning_image['p1_dog'] == False) & (cleaning_image['p2_dog'] == False) & (cleaning_image['p3_dog'] == False)).sum()"
   ]
  },
  {
   "cell_type": "markdown",
   "metadata": {},
   "source": [
    "it worked and we dropped any tweet that algorithms predicted to be not a dog."
   ]
  },
  {
   "cell_type": "markdown",
   "metadata": {},
   "source": [
    "##### define:\n",
    "##### add column named dog_type, the type of dog will be taken from the algorithm that has highest confident rate and true to be a dog."
   ]
  },
  {
   "cell_type": "markdown",
   "metadata": {},
   "source": [
    "##### code:"
   ]
  },
  {
   "cell_type": "code",
   "execution_count": 29,
   "metadata": {},
   "outputs": [],
   "source": [
    "# this list will store each dog type \n",
    "dog_type = []\n",
    "\n",
    "# this var will usesd to compared and hold the highest confident rate\n",
    "# >> highest\n",
    "\n",
    "# this var will hold the index of highest confident p{-}.conf \n",
    "# >> hold_coulums\n",
    "\n",
    "# this nested loop will go through each index and in each index it will go through each p{}_dog and check if it true \n",
    "# then compare it with prevoius p{}_conf (if there wasnt prevouis one it will set the frist as highest)\n",
    "# and hold the highest value to compare it with the next p{}_conf \n",
    "\n",
    "# after that it will assing the highest p{}_conf index to dog_type as p{} (the dog type name with highest confident rate)\n",
    "# then goes to the next index in the data frame and do the same \n",
    "\n",
    "for i in cleaning_image.index:\n",
    "    highest = 0\n",
    "    hold_coulums = 0\n",
    "    for j in range(1,4):\n",
    "        if(cleaning_image['p{}_dog'.format(j)][i] == True) & (cleaning_image['p{}_conf'.format(j)][i] > highest):\n",
    "            highest = cleaning_image['p{}_conf'.format(j)][i]\n",
    "            hold_coulums = j\n",
    "            \n",
    "    dog_type.append(cleaning_image['p{}'.format(hold_coulums)][i])"
   ]
  },
  {
   "cell_type": "code",
   "execution_count": 30,
   "metadata": {},
   "outputs": [],
   "source": [
    "# know assign the dog type to the data frame \n",
    "cleaning_image['dog_type'] = dog_type"
   ]
  },
  {
   "cell_type": "markdown",
   "metadata": {},
   "source": [
    "##### test:"
   ]
  },
  {
   "cell_type": "code",
   "execution_count": 31,
   "metadata": {},
   "outputs": [
    {
     "data": {
      "text/html": [
       "<div>\n",
       "<style scoped>\n",
       "    .dataframe tbody tr th:only-of-type {\n",
       "        vertical-align: middle;\n",
       "    }\n",
       "\n",
       "    .dataframe tbody tr th {\n",
       "        vertical-align: top;\n",
       "    }\n",
       "\n",
       "    .dataframe thead th {\n",
       "        text-align: right;\n",
       "    }\n",
       "</style>\n",
       "<table border=\"1\" class=\"dataframe\">\n",
       "  <thead>\n",
       "    <tr style=\"text-align: right;\">\n",
       "      <th></th>\n",
       "      <th>tweet_id</th>\n",
       "      <th>jpg_url</th>\n",
       "      <th>img_num</th>\n",
       "      <th>p1</th>\n",
       "      <th>p1_conf</th>\n",
       "      <th>p1_dog</th>\n",
       "      <th>p2</th>\n",
       "      <th>p2_conf</th>\n",
       "      <th>p2_dog</th>\n",
       "      <th>p3</th>\n",
       "      <th>p3_conf</th>\n",
       "      <th>p3_dog</th>\n",
       "      <th>dog_type</th>\n",
       "    </tr>\n",
       "  </thead>\n",
       "  <tbody>\n",
       "    <tr>\n",
       "      <th>2069</th>\n",
       "      <td>891087950875897856</td>\n",
       "      <td>https://pbs.twimg.com/media/DF3HwyEWsAABqE6.jpg</td>\n",
       "      <td>1</td>\n",
       "      <td>Chesapeake_Bay_retriever</td>\n",
       "      <td>0.425595</td>\n",
       "      <td>True</td>\n",
       "      <td>Irish_terrier</td>\n",
       "      <td>0.116317</td>\n",
       "      <td>True</td>\n",
       "      <td>Indian_elephant</td>\n",
       "      <td>0.076902</td>\n",
       "      <td>False</td>\n",
       "      <td>Chesapeake_Bay_retriever</td>\n",
       "    </tr>\n",
       "    <tr>\n",
       "      <th>2070</th>\n",
       "      <td>891327558926688256</td>\n",
       "      <td>https://pbs.twimg.com/media/DF6hr6BUMAAzZgT.jpg</td>\n",
       "      <td>2</td>\n",
       "      <td>basset</td>\n",
       "      <td>0.555712</td>\n",
       "      <td>True</td>\n",
       "      <td>English_springer</td>\n",
       "      <td>0.225770</td>\n",
       "      <td>True</td>\n",
       "      <td>German_short-haired_pointer</td>\n",
       "      <td>0.175219</td>\n",
       "      <td>True</td>\n",
       "      <td>basset</td>\n",
       "    </tr>\n",
       "    <tr>\n",
       "      <th>2071</th>\n",
       "      <td>891689557279858688</td>\n",
       "      <td>https://pbs.twimg.com/media/DF_q7IAWsAEuuN8.jpg</td>\n",
       "      <td>1</td>\n",
       "      <td>paper_towel</td>\n",
       "      <td>0.170278</td>\n",
       "      <td>False</td>\n",
       "      <td>Labrador_retriever</td>\n",
       "      <td>0.168086</td>\n",
       "      <td>True</td>\n",
       "      <td>spatula</td>\n",
       "      <td>0.040836</td>\n",
       "      <td>False</td>\n",
       "      <td>Labrador_retriever</td>\n",
       "    </tr>\n",
       "    <tr>\n",
       "      <th>2072</th>\n",
       "      <td>891815181378084864</td>\n",
       "      <td>https://pbs.twimg.com/media/DGBdLU1WsAANxJ9.jpg</td>\n",
       "      <td>1</td>\n",
       "      <td>Chihuahua</td>\n",
       "      <td>0.716012</td>\n",
       "      <td>True</td>\n",
       "      <td>malamute</td>\n",
       "      <td>0.078253</td>\n",
       "      <td>True</td>\n",
       "      <td>kelpie</td>\n",
       "      <td>0.031379</td>\n",
       "      <td>True</td>\n",
       "      <td>Chihuahua</td>\n",
       "    </tr>\n",
       "    <tr>\n",
       "      <th>2073</th>\n",
       "      <td>892177421306343426</td>\n",
       "      <td>https://pbs.twimg.com/media/DGGmoV4XsAAUL6n.jpg</td>\n",
       "      <td>1</td>\n",
       "      <td>Chihuahua</td>\n",
       "      <td>0.323581</td>\n",
       "      <td>True</td>\n",
       "      <td>Pekinese</td>\n",
       "      <td>0.090647</td>\n",
       "      <td>True</td>\n",
       "      <td>papillon</td>\n",
       "      <td>0.068957</td>\n",
       "      <td>True</td>\n",
       "      <td>Chihuahua</td>\n",
       "    </tr>\n",
       "  </tbody>\n",
       "</table>\n",
       "</div>"
      ],
      "text/plain": [
       "                tweet_id                                          jpg_url  \\\n",
       "2069  891087950875897856  https://pbs.twimg.com/media/DF3HwyEWsAABqE6.jpg   \n",
       "2070  891327558926688256  https://pbs.twimg.com/media/DF6hr6BUMAAzZgT.jpg   \n",
       "2071  891689557279858688  https://pbs.twimg.com/media/DF_q7IAWsAEuuN8.jpg   \n",
       "2072  891815181378084864  https://pbs.twimg.com/media/DGBdLU1WsAANxJ9.jpg   \n",
       "2073  892177421306343426  https://pbs.twimg.com/media/DGGmoV4XsAAUL6n.jpg   \n",
       "\n",
       "      img_num                        p1   p1_conf  p1_dog                  p2  \\\n",
       "2069        1  Chesapeake_Bay_retriever  0.425595    True       Irish_terrier   \n",
       "2070        2                    basset  0.555712    True    English_springer   \n",
       "2071        1               paper_towel  0.170278   False  Labrador_retriever   \n",
       "2072        1                 Chihuahua  0.716012    True            malamute   \n",
       "2073        1                 Chihuahua  0.323581    True            Pekinese   \n",
       "\n",
       "       p2_conf  p2_dog                           p3   p3_conf  p3_dog  \\\n",
       "2069  0.116317    True              Indian_elephant  0.076902   False   \n",
       "2070  0.225770    True  German_short-haired_pointer  0.175219    True   \n",
       "2071  0.168086    True                      spatula  0.040836   False   \n",
       "2072  0.078253    True                       kelpie  0.031379    True   \n",
       "2073  0.090647    True                     papillon  0.068957    True   \n",
       "\n",
       "                      dog_type  \n",
       "2069  Chesapeake_Bay_retriever  \n",
       "2070                    basset  \n",
       "2071        Labrador_retriever  \n",
       "2072                 Chihuahua  \n",
       "2073                 Chihuahua  "
      ]
     },
     "execution_count": 31,
     "metadata": {},
     "output_type": "execute_result"
    }
   ],
   "source": [
    "# test the code with some cases\n",
    "cleaning_image.tail(5)"
   ]
  },
  {
   "cell_type": "markdown",
   "metadata": {},
   "source": [
    "it worked!"
   ]
  },
  {
   "cell_type": "markdown",
   "metadata": {},
   "source": [
    "#### now we finshed cleaing the image data frame so before i move to the cleaning_tweet data frame i will drop uneeded clounms then merge these two tables"
   ]
  },
  {
   "cell_type": "code",
   "execution_count": 32,
   "metadata": {},
   "outputs": [],
   "source": [
    "cleaning_image.drop(columns=['img_num','p1', 'p1_conf', 'p1_dog', 'p2',\n",
    "                                'p2_conf', 'p2_dog', 'p3', 'p3_conf', 'p3_dog'] , inplace=True)"
   ]
  },
  {
   "cell_type": "code",
   "execution_count": 33,
   "metadata": {},
   "outputs": [
    {
     "data": {
      "text/html": [
       "<div>\n",
       "<style scoped>\n",
       "    .dataframe tbody tr th:only-of-type {\n",
       "        vertical-align: middle;\n",
       "    }\n",
       "\n",
       "    .dataframe tbody tr th {\n",
       "        vertical-align: top;\n",
       "    }\n",
       "\n",
       "    .dataframe thead th {\n",
       "        text-align: right;\n",
       "    }\n",
       "</style>\n",
       "<table border=\"1\" class=\"dataframe\">\n",
       "  <thead>\n",
       "    <tr style=\"text-align: right;\">\n",
       "      <th></th>\n",
       "      <th>tweet_id</th>\n",
       "      <th>jpg_url</th>\n",
       "      <th>dog_type</th>\n",
       "    </tr>\n",
       "  </thead>\n",
       "  <tbody>\n",
       "    <tr>\n",
       "      <th>0</th>\n",
       "      <td>666020888022790149</td>\n",
       "      <td>https://pbs.twimg.com/media/CT4udn0WwAA0aMy.jpg</td>\n",
       "      <td>Welsh_springer_spaniel</td>\n",
       "    </tr>\n",
       "  </tbody>\n",
       "</table>\n",
       "</div>"
      ],
      "text/plain": [
       "             tweet_id                                          jpg_url  \\\n",
       "0  666020888022790149  https://pbs.twimg.com/media/CT4udn0WwAA0aMy.jpg   \n",
       "\n",
       "                 dog_type  \n",
       "0  Welsh_springer_spaniel  "
      ]
     },
     "execution_count": 33,
     "metadata": {},
     "output_type": "execute_result"
    }
   ],
   "source": [
    "cleaning_image.head(1)"
   ]
  },
  {
   "cell_type": "code",
   "execution_count": 34,
   "metadata": {},
   "outputs": [],
   "source": [
    "# megre the two table so we can have one to work with \n",
    "cleaning_tweet = pd.merge(cleaning_tweet ,cleaning_image , left_on='id' , right_on='tweet_id') "
   ]
  },
  {
   "cell_type": "code",
   "execution_count": 35,
   "metadata": {},
   "outputs": [],
   "source": [
    "# drop tweet id since it duplicated now \n",
    "cleaning_tweet.drop(columns='tweet_id', inplace = True)"
   ]
  },
  {
   "cell_type": "code",
   "execution_count": 36,
   "metadata": {},
   "outputs": [
    {
     "data": {
      "text/html": [
       "<div>\n",
       "<style scoped>\n",
       "    .dataframe tbody tr th:only-of-type {\n",
       "        vertical-align: middle;\n",
       "    }\n",
       "\n",
       "    .dataframe tbody tr th {\n",
       "        vertical-align: top;\n",
       "    }\n",
       "\n",
       "    .dataframe thead th {\n",
       "        text-align: right;\n",
       "    }\n",
       "</style>\n",
       "<table border=\"1\" class=\"dataframe\">\n",
       "  <thead>\n",
       "    <tr style=\"text-align: right;\">\n",
       "      <th></th>\n",
       "      <th>created_at</th>\n",
       "      <th>id</th>\n",
       "      <th>extended_entities</th>\n",
       "      <th>retweet_count</th>\n",
       "      <th>favorite_count</th>\n",
       "      <th>retweeted_status</th>\n",
       "      <th>text</th>\n",
       "      <th>retweeted_status_id</th>\n",
       "      <th>rating_numerator</th>\n",
       "      <th>rating_denominator</th>\n",
       "      <th>name</th>\n",
       "      <th>doggo</th>\n",
       "      <th>floofer</th>\n",
       "      <th>pupper</th>\n",
       "      <th>puppo</th>\n",
       "      <th>jpg_url</th>\n",
       "      <th>dog_type</th>\n",
       "    </tr>\n",
       "  </thead>\n",
       "  <tbody>\n",
       "    <tr>\n",
       "      <th>0</th>\n",
       "      <td>2017-08-01 00:17:27+00:00</td>\n",
       "      <td>892177421306343426</td>\n",
       "      <td>{'media': [{'id': 892177413194625024, 'id_str'...</td>\n",
       "      <td>6514</td>\n",
       "      <td>33819</td>\n",
       "      <td>NaN</td>\n",
       "      <td>This is Tilly. She's just checking pup on you....</td>\n",
       "      <td>NaN</td>\n",
       "      <td>13</td>\n",
       "      <td>10</td>\n",
       "      <td>Tilly</td>\n",
       "      <td>None</td>\n",
       "      <td>None</td>\n",
       "      <td>None</td>\n",
       "      <td>None</td>\n",
       "      <td>https://pbs.twimg.com/media/DGGmoV4XsAAUL6n.jpg</td>\n",
       "      <td>Chihuahua</td>\n",
       "    </tr>\n",
       "  </tbody>\n",
       "</table>\n",
       "</div>"
      ],
      "text/plain": [
       "                 created_at                  id  \\\n",
       "0 2017-08-01 00:17:27+00:00  892177421306343426   \n",
       "\n",
       "                                   extended_entities  retweet_count  \\\n",
       "0  {'media': [{'id': 892177413194625024, 'id_str'...           6514   \n",
       "\n",
       "   favorite_count retweeted_status  \\\n",
       "0           33819              NaN   \n",
       "\n",
       "                                                text  retweeted_status_id  \\\n",
       "0  This is Tilly. She's just checking pup on you....                  NaN   \n",
       "\n",
       "   rating_numerator  rating_denominator   name doggo floofer pupper puppo  \\\n",
       "0                13                  10  Tilly  None    None   None  None   \n",
       "\n",
       "                                           jpg_url   dog_type  \n",
       "0  https://pbs.twimg.com/media/DGGmoV4XsAAUL6n.jpg  Chihuahua  "
      ]
     },
     "execution_count": 36,
     "metadata": {},
     "output_type": "execute_result"
    }
   ],
   "source": [
    "cleaning_tweet.head(1)"
   ]
  },
  {
   "cell_type": "code",
   "execution_count": 37,
   "metadata": {},
   "outputs": [
    {
     "name": "stdout",
     "output_type": "stream",
     "text": [
      "<class 'pandas.core.frame.DataFrame'>\n",
      "Int64Index: 1750 entries, 0 to 1749\n",
      "Data columns (total 17 columns):\n",
      " #   Column               Non-Null Count  Dtype              \n",
      "---  ------               --------------  -----              \n",
      " 0   created_at           1750 non-null   datetime64[ns, UTC]\n",
      " 1   id                   1750 non-null   int64              \n",
      " 2   extended_entities    1750 non-null   object             \n",
      " 3   retweet_count        1750 non-null   int64              \n",
      " 4   favorite_count       1750 non-null   int64              \n",
      " 5   retweeted_status     64 non-null     object             \n",
      " 6   text                 1750 non-null   object             \n",
      " 7   retweeted_status_id  64 non-null     float64            \n",
      " 8   rating_numerator     1750 non-null   int64              \n",
      " 9   rating_denominator   1750 non-null   int64              \n",
      " 10  name                 1750 non-null   object             \n",
      " 11  doggo                1750 non-null   object             \n",
      " 12  floofer              1750 non-null   object             \n",
      " 13  pupper               1750 non-null   object             \n",
      " 14  puppo                1750 non-null   object             \n",
      " 15  jpg_url              1750 non-null   object             \n",
      " 16  dog_type             1750 non-null   object             \n",
      "dtypes: datetime64[ns, UTC](1), float64(1), int64(5), object(10)\n",
      "memory usage: 246.1+ KB\n"
     ]
    }
   ],
   "source": [
    "cleaning_tweet.info()"
   ]
  },
  {
   "cell_type": "markdown",
   "metadata": {},
   "source": [
    "- look great lets start cleangin this dataset"
   ]
  },
  {
   "cell_type": "markdown",
   "metadata": {},
   "source": [
    "<a id='tweetCleaning'></a> \n",
    "#### 2- cleaning  tweet data frame \n",
    "<ul>\n",
    "<li><a href=\"#convertDatatype\">converting Data type</a></li>\n",
    "<li><a href=\"#retweetedTweets\"> drop retweeted tweets</a></li>\n",
    "<li><a href=\"#RatingTweets\"> fixing the rating tweets</a></li>\n",
    "    <ul> \n",
    "        <li><a href=\"#above40\"> fixing rates above 40</a></li>\n",
    "        <li><a href=\"#notqual10\"> fixing rates not equal 10</a></li>\n",
    "        <li><a href=\"#decimalvalue\"> fixing rates with decimal value</a></li>\n",
    "        <li><a href=\"#zerovalue\"> fixing rates with zero value</a></li>\n",
    "    </ul>\n",
    "<li><a href=\"#namesTweets\"> fixing dogs name</a></li>\n",
    "<li><a href=\"#dogStage\"> extract all dogs stage</a></li>\n",
    "<li><a href=\"#combineDog\"> comining dogs stages into one clounm </a></li>  \n",
    "<li><a href=\"#extractMandY\"> extracting the month and year </a></li>\n",
    "<li><a href=\"#extracurls\"> extracting the tweet urls </a></li>\n",
    "</ul>"
   ]
  },
  {
   "cell_type": "markdown",
   "metadata": {},
   "source": [
    "<a id='convertDatatype'></a>\n",
    "##### define :\n",
    "##### convert id_str to string \n",
    "##### convert rating_numerator to float"
   ]
  },
  {
   "cell_type": "markdown",
   "metadata": {},
   "source": [
    "##### code:"
   ]
  },
  {
   "cell_type": "code",
   "execution_count": 38,
   "metadata": {},
   "outputs": [],
   "source": [
    "# use astype method to convert data type\n",
    "cleaning_tweet['id'] = cleaning_tweet['id'].astype(str)\n",
    "cleaning_tweet['rating_numerator'] = cleaning_tweet['rating_numerator'].astype(float)"
   ]
  },
  {
   "cell_type": "markdown",
   "metadata": {},
   "source": [
    "##### test:"
   ]
  },
  {
   "cell_type": "code",
   "execution_count": 39,
   "metadata": {},
   "outputs": [
    {
     "data": {
      "text/plain": [
       "(str, numpy.float64)"
      ]
     },
     "execution_count": 39,
     "metadata": {},
     "output_type": "execute_result"
    }
   ],
   "source": [
    "# cheking if they converted : \n",
    "type(cleaning_tweet['id'][1]) , type(cleaning_tweet['rating_numerator'][1])"
   ]
  },
  {
   "cell_type": "markdown",
   "metadata": {},
   "source": [
    "<a id='retweetedTweets'></a> \n",
    "##### define:\n",
    "##### drop the tweets that are retweeted."
   ]
  },
  {
   "cell_type": "markdown",
   "metadata": {},
   "source": [
    "##### code:"
   ]
  },
  {
   "cell_type": "code",
   "execution_count": 40,
   "metadata": {},
   "outputs": [
    {
     "data": {
      "text/plain": [
       "64"
      ]
     },
     "execution_count": 40,
     "metadata": {},
     "output_type": "execute_result"
    }
   ],
   "source": [
    "# see how many of them\n",
    "(cleaning_tweet[cleaning_tweet['retweeted_status'].isna() != True])['id'].count()"
   ]
  },
  {
   "cell_type": "code",
   "execution_count": 41,
   "metadata": {},
   "outputs": [],
   "source": [
    "# fliter any row has value as retweeted\n",
    "cleaning_tweet = cleaning_tweet[cleaning_tweet['retweeted_status'].isna()]"
   ]
  },
  {
   "cell_type": "markdown",
   "metadata": {},
   "source": [
    "##### test:"
   ]
  },
  {
   "cell_type": "code",
   "execution_count": 42,
   "metadata": {},
   "outputs": [
    {
     "data": {
      "text/plain": [
       "0"
      ]
     },
     "execution_count": 42,
     "metadata": {},
     "output_type": "execute_result"
    }
   ],
   "source": [
    "# check if they gone \n",
    "(cleaning_tweet[cleaning_tweet['retweeted_status'].isna() != True])['id'].count()"
   ]
  },
  {
   "cell_type": "code",
   "execution_count": 43,
   "metadata": {},
   "outputs": [],
   "source": [
    "# i will drop retweeted status and id they not needed anymore\n",
    "cleaning_tweet.drop(columns=['retweeted_status' ,'retweeted_status_id'] , inplace=True)"
   ]
  },
  {
   "cell_type": "markdown",
   "metadata": {},
   "source": [
    "<a id='RatingTweets'></a> \n",
    "#### corect rating values:"
   ]
  },
  {
   "cell_type": "markdown",
   "metadata": {},
   "source": [
    "<a id='above40'></a> \n",
    "##### define:\n",
    "##### divde the tweet taht have more than 40 rating_denominator to become 10 also take care of rating_numerator they are related."
   ]
  },
  {
   "cell_type": "markdown",
   "metadata": {},
   "source": [
    "##### code:"
   ]
  },
  {
   "cell_type": "code",
   "execution_count": 44,
   "metadata": {
    "scrolled": true
   },
   "outputs": [],
   "source": [
    "# store the boolean value with 40 of more rating denominator\n",
    "above_40 = cleaning_tweet['rating_denominator'] >= 40\n",
    "\n",
    "# store new values after \n",
    "new_rating_numerator = []\n",
    "new_rating_denominator = []\n",
    "\n",
    "# this loop will go to each index and take out the the divder number that will give 10 when we divde \n",
    "# then it will assing values to new list\n",
    "\n",
    "for i in cleaning_tweet.index:\n",
    "    if (above_40[i]):\n",
    "        divder = cleaning_tweet['rating_denominator'][i] / 10\n",
    "        new_rating_numerator.append(cleaning_tweet['rating_numerator'][i]/divder)\n",
    "        new_rating_denominator.append(10)\n",
    "    else:\n",
    "        new_rating_numerator.append(cleaning_tweet['rating_numerator'][i])\n",
    "        new_rating_denominator.append(cleaning_tweet['rating_denominator'][i])\n",
    "\n",
    "        # i usesd this long way cause every time i try to assing specifec value inside data frame a waring shown to me"
   ]
  },
  {
   "cell_type": "code",
   "execution_count": 45,
   "metadata": {},
   "outputs": [],
   "source": [
    "# assign new values: \n",
    "cleaning_tweet['rating_numerator'] = new_rating_numerator\n",
    "cleaning_tweet['rating_denominator'] = new_rating_denominator"
   ]
  },
  {
   "cell_type": "markdown",
   "metadata": {},
   "source": [
    "##### test:"
   ]
  },
  {
   "cell_type": "code",
   "execution_count": 46,
   "metadata": {},
   "outputs": [
    {
     "data": {
      "text/html": [
       "<div>\n",
       "<style scoped>\n",
       "    .dataframe tbody tr th:only-of-type {\n",
       "        vertical-align: middle;\n",
       "    }\n",
       "\n",
       "    .dataframe tbody tr th {\n",
       "        vertical-align: top;\n",
       "    }\n",
       "\n",
       "    .dataframe thead th {\n",
       "        text-align: right;\n",
       "    }\n",
       "</style>\n",
       "<table border=\"1\" class=\"dataframe\">\n",
       "  <thead>\n",
       "    <tr style=\"text-align: right;\">\n",
       "      <th></th>\n",
       "      <th>created_at</th>\n",
       "      <th>id</th>\n",
       "      <th>extended_entities</th>\n",
       "      <th>retweet_count</th>\n",
       "      <th>favorite_count</th>\n",
       "      <th>text</th>\n",
       "      <th>rating_numerator</th>\n",
       "      <th>rating_denominator</th>\n",
       "      <th>name</th>\n",
       "      <th>doggo</th>\n",
       "      <th>floofer</th>\n",
       "      <th>pupper</th>\n",
       "      <th>puppo</th>\n",
       "      <th>jpg_url</th>\n",
       "      <th>dog_type</th>\n",
       "    </tr>\n",
       "  </thead>\n",
       "  <tbody>\n",
       "  </tbody>\n",
       "</table>\n",
       "</div>"
      ],
      "text/plain": [
       "Empty DataFrame\n",
       "Columns: [created_at, id, extended_entities, retweet_count, favorite_count, text, rating_numerator, rating_denominator, name, doggo, floofer, pupper, puppo, jpg_url, dog_type]\n",
       "Index: []"
      ]
     },
     "execution_count": 46,
     "metadata": {},
     "output_type": "execute_result"
    }
   ],
   "source": [
    "# check if it fixed: \n",
    "cleaning_tweet[cleaning_tweet['rating_denominator'] >= 40]"
   ]
  },
  {
   "cell_type": "markdown",
   "metadata": {},
   "source": [
    "##### define:\n",
    "##### fix manuly id:716439118184652801 it have more than 40 in rating_denominator but include one dog."
   ]
  },
  {
   "cell_type": "markdown",
   "metadata": {},
   "source": [
    "##### code :"
   ]
  },
  {
   "cell_type": "code",
   "execution_count": 47,
   "metadata": {},
   "outputs": [
    {
     "data": {
      "text/plain": [
       "'This is Bluebert. He just saw that both #FinalFur match ups are split 50/50. Amazed af. 11/10 https://t.co/Kky1DPG4iq'"
      ]
     },
     "execution_count": 47,
     "metadata": {},
     "output_type": "execute_result"
    }
   ],
   "source": [
    "cleaning_tweet[cleaning_tweet['id'] == '716439118184652801'].text[883]"
   ]
  },
  {
   "cell_type": "code",
   "execution_count": 48,
   "metadata": {
    "scrolled": true
   },
   "outputs": [
    {
     "name": "stderr",
     "output_type": "stream",
     "text": [
      "<ipython-input-48-17b24214aadf>:1: SettingWithCopyWarning: \n",
      "A value is trying to be set on a copy of a slice from a DataFrame\n",
      "\n",
      "See the caveats in the documentation: https://pandas.pydata.org/pandas-docs/stable/user_guide/indexing.html#returning-a-view-versus-a-copy\n",
      "  cleaning_tweet['rating_numerator'][883] = 11\n",
      "<ipython-input-48-17b24214aadf>:2: SettingWithCopyWarning: \n",
      "A value is trying to be set on a copy of a slice from a DataFrame\n",
      "\n",
      "See the caveats in the documentation: https://pandas.pydata.org/pandas-docs/stable/user_guide/indexing.html#returning-a-view-versus-a-copy\n",
      "  cleaning_tweet['rating_denominator'][883] = 10\n"
     ]
    }
   ],
   "source": [
    "cleaning_tweet['rating_numerator'][883] = 11\n",
    "cleaning_tweet['rating_denominator'][883] = 10"
   ]
  },
  {
   "cell_type": "markdown",
   "metadata": {},
   "source": [
    "##### i couldnt avoid this warings and i dont know how"
   ]
  },
  {
   "cell_type": "markdown",
   "metadata": {},
   "source": [
    "##### test:"
   ]
  },
  {
   "cell_type": "code",
   "execution_count": 49,
   "metadata": {},
   "outputs": [
    {
     "data": {
      "text/plain": [
       "created_at                                    2016-03-12 17:47:45+00:00\n",
       "id                                                   708711088997666817\n",
       "extended_entities     {'media': [{'id': 708711077455011842, 'id_str'...\n",
       "retweet_count                                                       834\n",
       "favorite_count                                                     2790\n",
       "text                  This is Smokey. He really likes tennis balls. ...\n",
       "rating_numerator                                                     11\n",
       "rating_denominator                                                   10\n",
       "name                                                             Smokey\n",
       "doggo                                                              None\n",
       "floofer                                                            None\n",
       "pupper                                                             None\n",
       "puppo                                                              None\n",
       "jpg_url                 https://pbs.twimg.com/media/CdXY-GHWoAALing.jpg\n",
       "dog_type                                    German_short-haired_pointer\n",
       "Name: 946, dtype: object"
      ]
     },
     "execution_count": 49,
     "metadata": {},
     "output_type": "execute_result"
    }
   ],
   "source": [
    "cleaning_tweet.iloc[883]"
   ]
  },
  {
   "cell_type": "markdown",
   "metadata": {},
   "source": [
    "it fixed"
   ]
  },
  {
   "cell_type": "markdown",
   "metadata": {},
   "source": [
    "##### define :\n",
    "##### remove id:862722525377298433 cause it has no rating"
   ]
  },
  {
   "cell_type": "markdown",
   "metadata": {},
   "source": [
    "##### code:"
   ]
  },
  {
   "cell_type": "code",
   "execution_count": 50,
   "metadata": {},
   "outputs": [],
   "source": [
    "# filter this id out\n",
    "cleaning_tweet = cleaning_tweet[cleaning_tweet['id'] != '810984652412424192']"
   ]
  },
  {
   "cell_type": "markdown",
   "metadata": {},
   "source": [
    "##### test:"
   ]
  },
  {
   "cell_type": "code",
   "execution_count": 51,
   "metadata": {},
   "outputs": [
    {
     "data": {
      "text/html": [
       "<div>\n",
       "<style scoped>\n",
       "    .dataframe tbody tr th:only-of-type {\n",
       "        vertical-align: middle;\n",
       "    }\n",
       "\n",
       "    .dataframe tbody tr th {\n",
       "        vertical-align: top;\n",
       "    }\n",
       "\n",
       "    .dataframe thead th {\n",
       "        text-align: right;\n",
       "    }\n",
       "</style>\n",
       "<table border=\"1\" class=\"dataframe\">\n",
       "  <thead>\n",
       "    <tr style=\"text-align: right;\">\n",
       "      <th></th>\n",
       "      <th>created_at</th>\n",
       "      <th>id</th>\n",
       "      <th>extended_entities</th>\n",
       "      <th>retweet_count</th>\n",
       "      <th>favorite_count</th>\n",
       "      <th>text</th>\n",
       "      <th>rating_numerator</th>\n",
       "      <th>rating_denominator</th>\n",
       "      <th>name</th>\n",
       "      <th>doggo</th>\n",
       "      <th>floofer</th>\n",
       "      <th>pupper</th>\n",
       "      <th>puppo</th>\n",
       "      <th>jpg_url</th>\n",
       "      <th>dog_type</th>\n",
       "    </tr>\n",
       "  </thead>\n",
       "  <tbody>\n",
       "  </tbody>\n",
       "</table>\n",
       "</div>"
      ],
      "text/plain": [
       "Empty DataFrame\n",
       "Columns: [created_at, id, extended_entities, retweet_count, favorite_count, text, rating_numerator, rating_denominator, name, doggo, floofer, pupper, puppo, jpg_url, dog_type]\n",
       "Index: []"
      ]
     },
     "execution_count": 51,
     "metadata": {},
     "output_type": "execute_result"
    }
   ],
   "source": [
    "# check it is dropped \n",
    "cleaning_tweet[cleaning_tweet['id'] == '810984652412424192']"
   ]
  },
  {
   "cell_type": "markdown",
   "metadata": {},
   "source": [
    "<a id='notqual10'></a> \n",
    "##### define :\n",
    "##### extract the numbers in second slash from tweet that have less than 40 and not equal 10 in rating_denominator "
   ]
  },
  {
   "cell_type": "markdown",
   "metadata": {},
   "source": [
    "##### code:"
   ]
  },
  {
   "cell_type": "code",
   "execution_count": 52,
   "metadata": {
    "scrolled": true
   },
   "outputs": [
    {
     "name": "stderr",
     "output_type": "stream",
     "text": [
      "<ipython-input-52-e1a9bd8bd9b8>:6: SettingWithCopyWarning: \n",
      "A value is trying to be set on a copy of a slice from a DataFrame\n",
      "\n",
      "See the caveats in the documentation: https://pandas.pydata.org/pandas-docs/stable/user_guide/indexing.html#returning-a-view-versus-a-copy\n",
      "  cleaning_tweet['rating_numerator'][i] = int(cleaning_tweet.text[i].split('/')[1][-2:])\n",
      "<ipython-input-52-e1a9bd8bd9b8>:7: SettingWithCopyWarning: \n",
      "A value is trying to be set on a copy of a slice from a DataFrame\n",
      "\n",
      "See the caveats in the documentation: https://pandas.pydata.org/pandas-docs/stable/user_guide/indexing.html#returning-a-view-versus-a-copy\n",
      "  cleaning_tweet['rating_denominator'][i] = 10\n"
     ]
    }
   ],
   "source": [
    "# store index row of tweet that have other than 10 rating_denominator\n",
    "contain_two_slash = cleaning_tweet[cleaning_tweet['rating_denominator'] != 10 ].index\n",
    "\n",
    "# this loop will split by salsh then take the second and slice it so the correct rating_numerator stored\n",
    "for i in contain_two_slash:\n",
    "    cleaning_tweet['rating_numerator'][i] = int(cleaning_tweet.text[i].split('/')[1][-2:])\n",
    "    cleaning_tweet['rating_denominator'][i] = 10"
   ]
  },
  {
   "cell_type": "markdown",
   "metadata": {},
   "source": [
    "##### test:"
   ]
  },
  {
   "cell_type": "code",
   "execution_count": 53,
   "metadata": {},
   "outputs": [
    {
     "name": "stdout",
     "output_type": "stream",
     "text": [
      "14.0 - After so many requests, this is Bretagne. She was the last surviving 9/11 search dog, and our second ever 14/10. RIP https://t.co/XAVDNDaVgQ\n",
      "13.0 - Happy 4/20 from the squad! 13/10 for all https://t.co/eV1diwds8a\n",
      "10.0 - This is Darrel. He just robbed a 7/11 and is in a high speed police chase. Was just spotted by the helicopter 10/10 https://t.co/7EsP8LmSp5\n",
      "9.0 - This is an Albanian 3 1/2 legged  Episcopalian. Loves well-polished hardwood flooring. Penis on the collar. 9/10 https://t.co/d9NcXFKwLv\n"
     ]
    }
   ],
   "source": [
    "# chek if they are fixed \n",
    "for i in contain_two_slash:\n",
    "    print(cleaning_tweet['rating_numerator'][i] ,'-' ,cleaning_tweet['text'][i])"
   ]
  },
  {
   "cell_type": "markdown",
   "metadata": {},
   "source": [
    "it seems right"
   ]
  },
  {
   "cell_type": "markdown",
   "metadata": {},
   "source": [
    "<a id='decimalvalue'></a> \n",
    "##### define:\n",
    "##### extract from text the right tweet that have rating_numerator as decimal value."
   ]
  },
  {
   "cell_type": "markdown",
   "metadata": {},
   "source": [
    "##### code:"
   ]
  },
  {
   "cell_type": "code",
   "execution_count": 54,
   "metadata": {},
   "outputs": [],
   "source": [
    "# i will use re libbiry to search inside string more effectivly \n",
    "import re"
   ]
  },
  {
   "cell_type": "code",
   "execution_count": 55,
   "metadata": {},
   "outputs": [
    {
     "name": "stdout",
     "output_type": "stream",
     "text": [
      "- This is Bella. She hopes her smile made you smile. If not, she is also offering you her favorite monkey. 13.5/10 https://t.co/qjrljjt948\n",
      "- This is Logan, the Chow who lived. He solemnly swears he's up to lots of good. H*ckin magical af 9.75/10 https://t.co/yBO5wuqaPS\n",
      "- This is Sophie. She's a Jubilant Bush Pupper. Super h*ckin rare. Appears at random just to smile at the locals. 11.27/10 would smile back https://t.co/QFaUiIHxHq\n",
      "- Here we have uncovered an entire battalion of holiday puppers. Average of 11.26/10 https://t.co/eNm2S6p9BD\n"
     ]
    }
   ],
   "source": [
    "# store the row index of teewt that have decimal vale\n",
    "decimal = []\n",
    "\n",
    "# this loop will go in each text and split by slash then takes the frist string and slice the last four charastatic\n",
    "# using search method it will chek if there any two number btween them an . \n",
    "# if it is so it will store the index \n",
    "for i in cleaning_tweet.index:\n",
    "    string = cleaning_tweet.text[i].split('/')[0][-4:]\n",
    "    if re.search('[0-9][.][0-9]' , string):\n",
    "        decimal.append(i)\n",
    "\n",
    "# it will display each text that contain decimal vale\n",
    "for j in decimal:\n",
    "    print('-' , cleaning_tweet.text[j])"
   ]
  },
  {
   "cell_type": "code",
   "execution_count": 56,
   "metadata": {
    "scrolled": true
   },
   "outputs": [
    {
     "name": "stderr",
     "output_type": "stream",
     "text": [
      "<ipython-input-56-f1b2a2e3a07e>:6: SettingWithCopyWarning: \n",
      "A value is trying to be set on a copy of a slice from a DataFrame\n",
      "\n",
      "See the caveats in the documentation: https://pandas.pydata.org/pandas-docs/stable/user_guide/indexing.html#returning-a-view-versus-a-copy\n",
      "  cleaning_tweet['rating_numerator'][i] =float(cleaning_tweet.text[i].split('/')[0][-5:])\n"
     ]
    }
   ],
   "source": [
    "# now i will fix it using the same loop with one diffrent line \n",
    "# the new line smpliy instead of store the new index it will assign it \n",
    "for i in cleaning_tweet.index:\n",
    "    string = cleaning_tweet.text[i].split('/')[0][-4:]\n",
    "    if re.search('[0-9][.][0-9]' , string):\n",
    "        cleaning_tweet['rating_numerator'][i] =float(cleaning_tweet.text[i].split('/')[0][-5:])"
   ]
  },
  {
   "cell_type": "markdown",
   "metadata": {},
   "source": [
    "##### test:"
   ]
  },
  {
   "cell_type": "code",
   "execution_count": 57,
   "metadata": {
    "scrolled": true
   },
   "outputs": [
    {
     "name": "stdout",
     "output_type": "stream",
     "text": [
      "13.5\n",
      "9.75\n",
      "11.27\n",
      "11.26\n"
     ]
    }
   ],
   "source": [
    "# now lets check \n",
    "for i in decimal:\n",
    "     print(cleaning_tweet['rating_numerator'][i])"
   ]
  },
  {
   "cell_type": "markdown",
   "metadata": {},
   "source": [
    "it looks great"
   ]
  },
  {
   "cell_type": "markdown",
   "metadata": {},
   "source": [
    "<a id='zerolvalue'></a> \n",
    "##### define :\n",
    "##### check tweet that have zero rating numerator and  drop it "
   ]
  },
  {
   "cell_type": "markdown",
   "metadata": {},
   "source": [
    "##### code:"
   ]
  },
  {
   "cell_type": "code",
   "execution_count": 58,
   "metadata": {},
   "outputs": [
    {
     "data": {
      "text/plain": [
       "\"When you're so blinded by your systematic plagiarism that you forget what day it is. 0/10 https://t.co/YbEJPkg4Ag\""
      ]
     },
     "execution_count": 58,
     "metadata": {},
     "output_type": "execute_result"
    }
   ],
   "source": [
    "# display the text to find out the reason\n",
    "cleaning_tweet[cleaning_tweet['rating_numerator'] == 0].text[216]"
   ]
  },
  {
   "cell_type": "markdown",
   "metadata": {},
   "source": [
    "it seems this tweet is calling out other account and rate it zero so it will be dropped"
   ]
  },
  {
   "cell_type": "code",
   "execution_count": 59,
   "metadata": {},
   "outputs": [],
   "source": [
    "# fliter the zero rating out \n",
    "cleaning_tweet = cleaning_tweet[cleaning_tweet['rating_numerator'] != 0]"
   ]
  },
  {
   "cell_type": "markdown",
   "metadata": {},
   "source": [
    "##### test:"
   ]
  },
  {
   "cell_type": "code",
   "execution_count": 60,
   "metadata": {},
   "outputs": [
    {
     "data": {
      "text/html": [
       "<div>\n",
       "<style scoped>\n",
       "    .dataframe tbody tr th:only-of-type {\n",
       "        vertical-align: middle;\n",
       "    }\n",
       "\n",
       "    .dataframe tbody tr th {\n",
       "        vertical-align: top;\n",
       "    }\n",
       "\n",
       "    .dataframe thead th {\n",
       "        text-align: right;\n",
       "    }\n",
       "</style>\n",
       "<table border=\"1\" class=\"dataframe\">\n",
       "  <thead>\n",
       "    <tr style=\"text-align: right;\">\n",
       "      <th></th>\n",
       "      <th>created_at</th>\n",
       "      <th>id</th>\n",
       "      <th>extended_entities</th>\n",
       "      <th>retweet_count</th>\n",
       "      <th>favorite_count</th>\n",
       "      <th>text</th>\n",
       "      <th>rating_numerator</th>\n",
       "      <th>rating_denominator</th>\n",
       "      <th>name</th>\n",
       "      <th>doggo</th>\n",
       "      <th>floofer</th>\n",
       "      <th>pupper</th>\n",
       "      <th>puppo</th>\n",
       "      <th>jpg_url</th>\n",
       "      <th>dog_type</th>\n",
       "    </tr>\n",
       "  </thead>\n",
       "  <tbody>\n",
       "  </tbody>\n",
       "</table>\n",
       "</div>"
      ],
      "text/plain": [
       "Empty DataFrame\n",
       "Columns: [created_at, id, extended_entities, retweet_count, favorite_count, text, rating_numerator, rating_denominator, name, doggo, floofer, pupper, puppo, jpg_url, dog_type]\n",
       "Index: []"
      ]
     },
     "execution_count": 60,
     "metadata": {},
     "output_type": "execute_result"
    }
   ],
   "source": [
    "# check it \n",
    "cleaning_tweet[cleaning_tweet['rating_numerator'] == 0]"
   ]
  },
  {
   "cell_type": "markdown",
   "metadata": {},
   "source": [
    "<a id='namesTweets'></a> \n",
    "##### define:\n",
    "##### replace the invalid names that are (a) or (an) , (the) -i select the top 3 the other is one for each -with true name from text if there was no name set it to null and set null for any other lower case name."
   ]
  },
  {
   "cell_type": "markdown",
   "metadata": {},
   "source": [
    "##### code:"
   ]
  },
  {
   "cell_type": "code",
   "execution_count": 61,
   "metadata": {},
   "outputs": [
    {
     "data": {
      "text/plain": [
       "(46, 4, 7)"
      ]
     },
     "execution_count": 61,
     "metadata": {},
     "output_type": "execute_result"
    }
   ],
   "source": [
    "# see how many a , an and the since there are top wrong name the other lowercase only one each\n",
    "((cleaning_tweet['name'] == 'a').sum() , (cleaning_tweet['name'] == 'an').sum() , (cleaning_tweet['name'] == 'the').sum())"
   ]
  },
  {
   "cell_type": "code",
   "execution_count": 62,
   "metadata": {},
   "outputs": [
    {
     "name": "stderr",
     "output_type": "stream",
     "text": [
      "<ipython-input-62-a12d826f441a>:15: SettingWithCopyWarning: \n",
      "A value is trying to be set on a copy of a slice from a DataFrame\n",
      "\n",
      "See the caveats in the documentation: https://pandas.pydata.org/pandas-docs/stable/user_guide/indexing.html#returning-a-view-versus-a-copy\n",
      "  cleaning_tweet['name'][i] = string\n"
     ]
    }
   ],
   "source": [
    "# store index of row that contain a or an as name \n",
    "contain_a_an_the = list(cleaning_tweet[cleaning_tweet['name'] == 'a'].index) + \\\n",
    "            list(cleaning_tweet[cleaning_tweet['name'] == 'an'].index) + \\\n",
    "            list(cleaning_tweet[cleaning_tweet['name'] == 'the'].index)\n",
    "\n",
    "# this loop will store the text of each name with a or an \n",
    "contain_named = []\n",
    "for i in contain_a_an_the:\n",
    "    if('named' in cleaning_tweet['text'][i]):\n",
    "        contain_named.append(i)\n",
    "        \n",
    "# this loop will extract the text with name and assign it to the name     \n",
    "for i in contain_named: \n",
    "    string = cleaning_tweet['text'][i].split('named')[1].split('.')[0].strip(' ')\n",
    "    cleaning_tweet['name'][i] = string"
   ]
  },
  {
   "cell_type": "code",
   "execution_count": 63,
   "metadata": {},
   "outputs": [],
   "source": [
    "# droping any name that have lower case.\n",
    "cleaning_tweet.loc[cleaning_tweet.name.str.islower() == True , 'name'] = np.nan"
   ]
  },
  {
   "cell_type": "markdown",
   "metadata": {},
   "source": [
    "##### test:"
   ]
  },
  {
   "cell_type": "code",
   "execution_count": 64,
   "metadata": {},
   "outputs": [
    {
     "data": {
      "text/plain": [
       "0"
      ]
     },
     "execution_count": 64,
     "metadata": {},
     "output_type": "execute_result"
    }
   ],
   "source": [
    "(cleaning_tweet.name.str.islower() == True).sum()"
   ]
  },
  {
   "cell_type": "markdown",
   "metadata": {},
   "source": [
    "i will convert the none string to null so we can see info more accurate "
   ]
  },
  {
   "cell_type": "code",
   "execution_count": 65,
   "metadata": {},
   "outputs": [
    {
     "name": "stderr",
     "output_type": "stream",
     "text": [
      "<ipython-input-65-7b6be3e7d5db>:6: SettingWithCopyWarning: \n",
      "A value is trying to be set on a copy of a slice from a DataFrame\n",
      "\n",
      "See the caveats in the documentation: https://pandas.pydata.org/pandas-docs/stable/user_guide/indexing.html#returning-a-view-versus-a-copy\n",
      "  cleaning_tweet['name'][i] = None\n"
     ]
    }
   ],
   "source": [
    "# store each index that contain none name \n",
    "contain_none = list(cleaning_tweet[cleaning_tweet['name'] == 'None'].index)\n",
    "\n",
    "# convert form none to null\n",
    "for i in contain_none: \n",
    "    cleaning_tweet['name'][i] = None"
   ]
  },
  {
   "cell_type": "code",
   "execution_count": 66,
   "metadata": {
    "scrolled": true
   },
   "outputs": [
    {
     "name": "stdout",
     "output_type": "stream",
     "text": [
      "<class 'pandas.core.frame.DataFrame'>\n",
      "Int64Index: 1684 entries, 0 to 1749\n",
      "Data columns (total 15 columns):\n",
      " #   Column              Non-Null Count  Dtype              \n",
      "---  ------              --------------  -----              \n",
      " 0   created_at          1684 non-null   datetime64[ns, UTC]\n",
      " 1   id                  1684 non-null   object             \n",
      " 2   extended_entities   1684 non-null   object             \n",
      " 3   retweet_count       1684 non-null   int64              \n",
      " 4   favorite_count      1684 non-null   int64              \n",
      " 5   text                1684 non-null   object             \n",
      " 6   rating_numerator    1684 non-null   float64            \n",
      " 7   rating_denominator  1684 non-null   int64              \n",
      " 8   name                1203 non-null   object             \n",
      " 9   doggo               1684 non-null   object             \n",
      " 10  floofer             1684 non-null   object             \n",
      " 11  pupper              1684 non-null   object             \n",
      " 12  puppo               1684 non-null   object             \n",
      " 13  jpg_url             1684 non-null   object             \n",
      " 14  dog_type            1684 non-null   object             \n",
      "dtypes: datetime64[ns, UTC](1), float64(1), int64(3), object(10)\n",
      "memory usage: 290.5+ KB\n"
     ]
    }
   ],
   "source": [
    "cleaning_tweet.info()"
   ]
  },
  {
   "cell_type": "markdown",
   "metadata": {},
   "source": [
    "We have 481 missng name , we did our best to extract form text but not all tweet have the dog name"
   ]
  },
  {
   "cell_type": "markdown",
   "metadata": {},
   "source": [
    "##### define  code test:\n",
    "##### change the all text to be in lowercase"
   ]
  },
  {
   "cell_type": "markdown",
   "metadata": {},
   "source": [
    "##### code :"
   ]
  },
  {
   "cell_type": "code",
   "execution_count": 67,
   "metadata": {},
   "outputs": [],
   "source": [
    "# use string function lower\n",
    "cleaning_tweet['text'] = cleaning_tweet['text'].str.lower()"
   ]
  },
  {
   "cell_type": "markdown",
   "metadata": {},
   "source": [
    "##### test :"
   ]
  },
  {
   "cell_type": "code",
   "execution_count": 68,
   "metadata": {},
   "outputs": [
    {
     "data": {
      "text/plain": [
       "\"this is tilly. she's just checking pup on you. hopes you're doing ok. if not, she's available for pats, snugs, boops, the whole bit. 13/10 https://t.co/0xxu71qeiv\""
      ]
     },
     "execution_count": 68,
     "metadata": {},
     "output_type": "execute_result"
    }
   ],
   "source": [
    "cleaning_tweet['text'][0]"
   ]
  },
  {
   "cell_type": "markdown",
   "metadata": {},
   "source": [
    "<a id='dogStage'></a>\n",
    "##### define :\n",
    "##### extract all the dog stages vars form the text cause they have not been extracted corrctaly:"
   ]
  },
  {
   "cell_type": "markdown",
   "metadata": {},
   "source": [
    "##### code:"
   ]
  },
  {
   "cell_type": "code",
   "execution_count": 69,
   "metadata": {},
   "outputs": [],
   "source": [
    "# this function will take var and return how many times it repeated in the data frame text: \n",
    "\n",
    "def repeated_times (string):\n",
    "    counter = 0\n",
    "    for i in cleaning_tweet.index:\n",
    "        if((string in cleaning_tweet['text'][i])):\n",
    "            counter += 1\n",
    "    return counter\n",
    "\n",
    "# this function will take var and will assiign it to the data frame if it in the text: \n",
    "def assign_dog_stage (string):\n",
    "    for i in cleaning_tweet.index:\n",
    "        if((string in cleaning_tweet['text'][i])):\n",
    "            cleaning_tweet[string][i] = string"
   ]
  },
  {
   "cell_type": "code",
   "execution_count": 70,
   "metadata": {},
   "outputs": [
    {
     "data": {
      "text/plain": [
       "64"
      ]
     },
     "execution_count": 70,
     "metadata": {},
     "output_type": "execute_result"
    }
   ],
   "source": [
    "# see how many doggo we have\n",
    "(cleaning_tweet['doggo'] != 'None').sum()"
   ]
  },
  {
   "cell_type": "code",
   "execution_count": 71,
   "metadata": {},
   "outputs": [
    {
     "data": {
      "text/plain": [
       "68"
      ]
     },
     "execution_count": 71,
     "metadata": {},
     "output_type": "execute_result"
    }
   ],
   "source": [
    "# see how many doggo we have in the text \n",
    "repeated_times('doggo')"
   ]
  },
  {
   "cell_type": "markdown",
   "metadata": {},
   "source": [
    "We missing 4 so we will extract them"
   ]
  },
  {
   "cell_type": "code",
   "execution_count": 72,
   "metadata": {
    "scrolled": true
   },
   "outputs": [
    {
     "name": "stderr",
     "output_type": "stream",
     "text": [
      "<ipython-input-69-ef3e7c5b4a06>:14: SettingWithCopyWarning: \n",
      "A value is trying to be set on a copy of a slice from a DataFrame\n",
      "\n",
      "See the caveats in the documentation: https://pandas.pydata.org/pandas-docs/stable/user_guide/indexing.html#returning-a-view-versus-a-copy\n",
      "  cleaning_tweet[string][i] = string\n"
     ]
    }
   ],
   "source": [
    "# assgin missing \n",
    "assign_dog_stage('doggo')"
   ]
  },
  {
   "cell_type": "code",
   "execution_count": 73,
   "metadata": {},
   "outputs": [
    {
     "data": {
      "text/plain": [
       "8"
      ]
     },
     "execution_count": 73,
     "metadata": {},
     "output_type": "execute_result"
    }
   ],
   "source": [
    "# see how many floof we have\n",
    "(cleaning_tweet['floofer'] != 'None').sum()"
   ]
  },
  {
   "cell_type": "code",
   "execution_count": 74,
   "metadata": {},
   "outputs": [
    {
     "data": {
      "text/plain": [
       "35"
      ]
     },
     "execution_count": 74,
     "metadata": {},
     "output_type": "execute_result"
    }
   ],
   "source": [
    "# see how many floof we have in the text \n",
    "repeated_times('floof')"
   ]
  },
  {
   "cell_type": "code",
   "execution_count": 75,
   "metadata": {},
   "outputs": [
    {
     "name": "stderr",
     "output_type": "stream",
     "text": [
      "<ipython-input-75-d851ee236e09>:4: SettingWithCopyWarning: \n",
      "A value is trying to be set on a copy of a slice from a DataFrame\n",
      "\n",
      "See the caveats in the documentation: https://pandas.pydata.org/pandas-docs/stable/user_guide/indexing.html#returning-a-view-versus-a-copy\n",
      "  cleaning_tweet['floofer'][i] = string\n"
     ]
    }
   ],
   "source": [
    "# assgin missing \n",
    "for i in cleaning_tweet.index:\n",
    "    if(('floof' in cleaning_tweet['text'][i])):\n",
    "        cleaning_tweet['floofer'][i] = string"
   ]
  },
  {
   "cell_type": "code",
   "execution_count": 76,
   "metadata": {},
   "outputs": [
    {
     "data": {
      "text/plain": [
       "176"
      ]
     },
     "execution_count": 76,
     "metadata": {},
     "output_type": "execute_result"
    }
   ],
   "source": [
    "# see how many pupper we have\n",
    "(cleaning_tweet['pupper'] != 'None').sum()"
   ]
  },
  {
   "cell_type": "code",
   "execution_count": 77,
   "metadata": {},
   "outputs": [
    {
     "data": {
      "text/plain": [
       "195"
      ]
     },
     "execution_count": 77,
     "metadata": {},
     "output_type": "execute_result"
    }
   ],
   "source": [
    "# see how many pupper we have in the text \n",
    "repeated_times('pupper')"
   ]
  },
  {
   "cell_type": "code",
   "execution_count": 78,
   "metadata": {},
   "outputs": [
    {
     "name": "stderr",
     "output_type": "stream",
     "text": [
      "<ipython-input-69-ef3e7c5b4a06>:14: SettingWithCopyWarning: \n",
      "A value is trying to be set on a copy of a slice from a DataFrame\n",
      "\n",
      "See the caveats in the documentation: https://pandas.pydata.org/pandas-docs/stable/user_guide/indexing.html#returning-a-view-versus-a-copy\n",
      "  cleaning_tweet[string][i] = string\n"
     ]
    }
   ],
   "source": [
    "# assgin missing \n",
    "assign_dog_stage('pupper')"
   ]
  },
  {
   "cell_type": "code",
   "execution_count": 79,
   "metadata": {},
   "outputs": [
    {
     "data": {
      "text/plain": [
       "22"
      ]
     },
     "execution_count": 79,
     "metadata": {},
     "output_type": "execute_result"
    }
   ],
   "source": [
    "# see how many puppo we have\n",
    "(cleaning_tweet['puppo'] != 'None').sum()"
   ]
  },
  {
   "cell_type": "code",
   "execution_count": 80,
   "metadata": {},
   "outputs": [
    {
     "data": {
      "text/plain": [
       "28"
      ]
     },
     "execution_count": 80,
     "metadata": {},
     "output_type": "execute_result"
    }
   ],
   "source": [
    "# see how many puppo we have in the text \n",
    "repeated_times('puppo')"
   ]
  },
  {
   "cell_type": "code",
   "execution_count": 81,
   "metadata": {
    "scrolled": true
   },
   "outputs": [
    {
     "name": "stderr",
     "output_type": "stream",
     "text": [
      "<ipython-input-69-ef3e7c5b4a06>:14: SettingWithCopyWarning: \n",
      "A value is trying to be set on a copy of a slice from a DataFrame\n",
      "\n",
      "See the caveats in the documentation: https://pandas.pydata.org/pandas-docs/stable/user_guide/indexing.html#returning-a-view-versus-a-copy\n",
      "  cleaning_tweet[string][i] = string\n"
     ]
    }
   ],
   "source": [
    "# assgin missing \n",
    "assign_dog_stage('puppo')"
   ]
  },
  {
   "cell_type": "markdown",
   "metadata": {},
   "source": [
    "##### test:"
   ]
  },
  {
   "cell_type": "code",
   "execution_count": 82,
   "metadata": {},
   "outputs": [
    {
     "data": {
      "text/plain": [
       "68"
      ]
     },
     "execution_count": 82,
     "metadata": {},
     "output_type": "execute_result"
    }
   ],
   "source": [
    "# check if we added the missing 4 to become 68\n",
    "(cleaning_tweet['doggo'] != 'None').sum()"
   ]
  },
  {
   "cell_type": "code",
   "execution_count": 83,
   "metadata": {},
   "outputs": [
    {
     "data": {
      "text/plain": [
       "35"
      ]
     },
     "execution_count": 83,
     "metadata": {},
     "output_type": "execute_result"
    }
   ],
   "source": [
    "# check if we added the missing 27 to become 35\n",
    "(cleaning_tweet['floofer'] != 'None').sum()"
   ]
  },
  {
   "cell_type": "code",
   "execution_count": 84,
   "metadata": {},
   "outputs": [
    {
     "data": {
      "text/plain": [
       "195"
      ]
     },
     "execution_count": 84,
     "metadata": {},
     "output_type": "execute_result"
    }
   ],
   "source": [
    "# check if we added the missing 19 to become 195\n",
    "(cleaning_tweet['pupper'] != 'None').sum()"
   ]
  },
  {
   "cell_type": "code",
   "execution_count": 85,
   "metadata": {},
   "outputs": [
    {
     "data": {
      "text/plain": [
       "28"
      ]
     },
     "execution_count": 85,
     "metadata": {},
     "output_type": "execute_result"
    }
   ],
   "source": [
    "# check if we added the missing 6 to become 28\n",
    "(cleaning_tweet['puppo'] != 'None').sum()"
   ]
  },
  {
   "cell_type": "markdown",
   "metadata": {},
   "source": [
    "its look good"
   ]
  },
  {
   "cell_type": "markdown",
   "metadata": {},
   "source": [
    "<a id='combineDog'></a>\n",
    "##### define :\n",
    "##### combine doggo,floofer,pupper,and puppo variables in same coulmn with name of dog_stage "
   ]
  },
  {
   "cell_type": "markdown",
   "metadata": {},
   "source": [
    "##### code:"
   ]
  },
  {
   "cell_type": "code",
   "execution_count": 86,
   "metadata": {},
   "outputs": [],
   "source": [
    "# i will store each index which dog stage in then will store it in do_stage list\n",
    "dog_stage = []\n",
    "for i in cleaning_tweet.index:\n",
    "    if(cleaning_tweet['puppo'][i] != 'None'):\n",
    "        dog_stage.append('puppo')\n",
    "    elif (cleaning_tweet['pupper'][i] != 'None'):\n",
    "        dog_stage.append('pupper')\n",
    "    elif (cleaning_tweet['floofer'][i] != 'None'):\n",
    "        dog_stage.append('floofer')\n",
    "    elif (cleaning_tweet['doggo'][i] != 'None'):\n",
    "        dog_stage.append('doggo')\n",
    "    else:\n",
    "        dog_stage.append(None)"
   ]
  },
  {
   "cell_type": "code",
   "execution_count": 87,
   "metadata": {},
   "outputs": [],
   "source": [
    "# creat the dog_stage cloumn \n",
    "cleaning_tweet['dog_stage'] = dog_stage"
   ]
  },
  {
   "cell_type": "markdown",
   "metadata": {},
   "source": [
    "##### test:"
   ]
  },
  {
   "cell_type": "code",
   "execution_count": 88,
   "metadata": {
    "scrolled": true
   },
   "outputs": [
    {
     "name": "stdout",
     "output_type": "stream",
     "text": [
      "<class 'pandas.core.frame.DataFrame'>\n",
      "Int64Index: 1684 entries, 0 to 1749\n",
      "Data columns (total 16 columns):\n",
      " #   Column              Non-Null Count  Dtype              \n",
      "---  ------              --------------  -----              \n",
      " 0   created_at          1684 non-null   datetime64[ns, UTC]\n",
      " 1   id                  1684 non-null   object             \n",
      " 2   extended_entities   1684 non-null   object             \n",
      " 3   retweet_count       1684 non-null   int64              \n",
      " 4   favorite_count      1684 non-null   int64              \n",
      " 5   text                1684 non-null   object             \n",
      " 6   rating_numerator    1684 non-null   float64            \n",
      " 7   rating_denominator  1684 non-null   int64              \n",
      " 8   name                1203 non-null   object             \n",
      " 9   doggo               1684 non-null   object             \n",
      " 10  floofer             1684 non-null   object             \n",
      " 11  pupper              1684 non-null   object             \n",
      " 12  puppo               1684 non-null   object             \n",
      " 13  jpg_url             1684 non-null   object             \n",
      " 14  dog_type            1684 non-null   object             \n",
      " 15  dog_stage           314 non-null    object             \n",
      "dtypes: datetime64[ns, UTC](1), float64(1), int64(3), object(11)\n",
      "memory usage: 303.7+ KB\n"
     ]
    }
   ],
   "source": [
    "cleaning_tweet.info()"
   ]
  },
  {
   "cell_type": "markdown",
   "metadata": {},
   "source": [
    "we have only 314 value of dog_stage but not all tweet have the dog stage"
   ]
  },
  {
   "cell_type": "markdown",
   "metadata": {},
   "source": [
    "now lets drop the dog stages dogs since we have them in dog_stage"
   ]
  },
  {
   "cell_type": "code",
   "execution_count": 89,
   "metadata": {},
   "outputs": [],
   "source": [
    "cleaning_tweet.drop(columns=['doggo','floofer', 'pupper', 'puppo'],inplace=True)"
   ]
  },
  {
   "cell_type": "code",
   "execution_count": 90,
   "metadata": {},
   "outputs": [
    {
     "data": {
      "text/html": [
       "<div>\n",
       "<style scoped>\n",
       "    .dataframe tbody tr th:only-of-type {\n",
       "        vertical-align: middle;\n",
       "    }\n",
       "\n",
       "    .dataframe tbody tr th {\n",
       "        vertical-align: top;\n",
       "    }\n",
       "\n",
       "    .dataframe thead th {\n",
       "        text-align: right;\n",
       "    }\n",
       "</style>\n",
       "<table border=\"1\" class=\"dataframe\">\n",
       "  <thead>\n",
       "    <tr style=\"text-align: right;\">\n",
       "      <th></th>\n",
       "      <th>created_at</th>\n",
       "      <th>id</th>\n",
       "      <th>extended_entities</th>\n",
       "      <th>retweet_count</th>\n",
       "      <th>favorite_count</th>\n",
       "      <th>text</th>\n",
       "      <th>rating_numerator</th>\n",
       "      <th>rating_denominator</th>\n",
       "      <th>name</th>\n",
       "      <th>jpg_url</th>\n",
       "      <th>dog_type</th>\n",
       "      <th>dog_stage</th>\n",
       "    </tr>\n",
       "  </thead>\n",
       "  <tbody>\n",
       "    <tr>\n",
       "      <th>0</th>\n",
       "      <td>2017-08-01 00:17:27+00:00</td>\n",
       "      <td>892177421306343426</td>\n",
       "      <td>{'media': [{'id': 892177413194625024, 'id_str'...</td>\n",
       "      <td>6514</td>\n",
       "      <td>33819</td>\n",
       "      <td>this is tilly. she's just checking pup on you....</td>\n",
       "      <td>13.0</td>\n",
       "      <td>10</td>\n",
       "      <td>Tilly</td>\n",
       "      <td>https://pbs.twimg.com/media/DGGmoV4XsAAUL6n.jpg</td>\n",
       "      <td>Chihuahua</td>\n",
       "      <td>None</td>\n",
       "    </tr>\n",
       "  </tbody>\n",
       "</table>\n",
       "</div>"
      ],
      "text/plain": [
       "                 created_at                  id  \\\n",
       "0 2017-08-01 00:17:27+00:00  892177421306343426   \n",
       "\n",
       "                                   extended_entities  retweet_count  \\\n",
       "0  {'media': [{'id': 892177413194625024, 'id_str'...           6514   \n",
       "\n",
       "   favorite_count                                               text  \\\n",
       "0           33819  this is tilly. she's just checking pup on you....   \n",
       "\n",
       "   rating_numerator  rating_denominator   name  \\\n",
       "0              13.0                  10  Tilly   \n",
       "\n",
       "                                           jpg_url   dog_type dog_stage  \n",
       "0  https://pbs.twimg.com/media/DGGmoV4XsAAUL6n.jpg  Chihuahua      None  "
      ]
     },
     "execution_count": 90,
     "metadata": {},
     "output_type": "execute_result"
    }
   ],
   "source": [
    "cleaning_tweet.head(1)"
   ]
  },
  {
   "cell_type": "markdown",
   "metadata": {},
   "source": [
    " <a id='extractMandY'></a>\n",
    " ##### define :\n",
    "##### extract the month and year from the created_at and assign it to created_at (fliter out every thing expect year and month) "
   ]
  },
  {
   "cell_type": "markdown",
   "metadata": {},
   "source": [
    "##### code:"
   ]
  },
  {
   "cell_type": "code",
   "execution_count": 91,
   "metadata": {},
   "outputs": [
    {
     "data": {
      "text/plain": [
       "['08/2017', '07/2017', '07/2017']"
      ]
     },
     "execution_count": 91,
     "metadata": {},
     "output_type": "execute_result"
    }
   ],
   "source": [
    "# used to store the month with year\n",
    "month_year = []\n",
    "\n",
    "# using datetime method strftime it will extract then append it in the list \n",
    "for i in cleaning_tweet.index:\n",
    "    month_year.append(cleaning_tweet['created_at'][i].strftime(\"%m/%Y\"))\n",
    "\n",
    "# see if we have the right format\n",
    "month_year[0:3]"
   ]
  },
  {
   "cell_type": "code",
   "execution_count": 92,
   "metadata": {},
   "outputs": [],
   "source": [
    "# now assign the list to created_at\n",
    "cleaning_tweet['created_at'] = month_year"
   ]
  },
  {
   "cell_type": "markdown",
   "metadata": {},
   "source": [
    "##### test:"
   ]
  },
  {
   "cell_type": "code",
   "execution_count": 93,
   "metadata": {},
   "outputs": [
    {
     "data": {
      "text/html": [
       "<div>\n",
       "<style scoped>\n",
       "    .dataframe tbody tr th:only-of-type {\n",
       "        vertical-align: middle;\n",
       "    }\n",
       "\n",
       "    .dataframe tbody tr th {\n",
       "        vertical-align: top;\n",
       "    }\n",
       "\n",
       "    .dataframe thead th {\n",
       "        text-align: right;\n",
       "    }\n",
       "</style>\n",
       "<table border=\"1\" class=\"dataframe\">\n",
       "  <thead>\n",
       "    <tr style=\"text-align: right;\">\n",
       "      <th></th>\n",
       "      <th>created_at</th>\n",
       "      <th>id</th>\n",
       "      <th>extended_entities</th>\n",
       "      <th>retweet_count</th>\n",
       "      <th>favorite_count</th>\n",
       "      <th>text</th>\n",
       "      <th>rating_numerator</th>\n",
       "      <th>rating_denominator</th>\n",
       "      <th>name</th>\n",
       "      <th>jpg_url</th>\n",
       "      <th>dog_type</th>\n",
       "      <th>dog_stage</th>\n",
       "    </tr>\n",
       "  </thead>\n",
       "  <tbody>\n",
       "    <tr>\n",
       "      <th>0</th>\n",
       "      <td>08/2017</td>\n",
       "      <td>892177421306343426</td>\n",
       "      <td>{'media': [{'id': 892177413194625024, 'id_str'...</td>\n",
       "      <td>6514</td>\n",
       "      <td>33819</td>\n",
       "      <td>this is tilly. she's just checking pup on you....</td>\n",
       "      <td>13.0</td>\n",
       "      <td>10</td>\n",
       "      <td>Tilly</td>\n",
       "      <td>https://pbs.twimg.com/media/DGGmoV4XsAAUL6n.jpg</td>\n",
       "      <td>Chihuahua</td>\n",
       "      <td>None</td>\n",
       "    </tr>\n",
       "    <tr>\n",
       "      <th>1</th>\n",
       "      <td>07/2017</td>\n",
       "      <td>891815181378084864</td>\n",
       "      <td>{'media': [{'id': 891815175371796480, 'id_str'...</td>\n",
       "      <td>4328</td>\n",
       "      <td>25461</td>\n",
       "      <td>this is archie. he is a rare norwegian pouncin...</td>\n",
       "      <td>12.0</td>\n",
       "      <td>10</td>\n",
       "      <td>Archie</td>\n",
       "      <td>https://pbs.twimg.com/media/DGBdLU1WsAANxJ9.jpg</td>\n",
       "      <td>Chihuahua</td>\n",
       "      <td>None</td>\n",
       "    </tr>\n",
       "  </tbody>\n",
       "</table>\n",
       "</div>"
      ],
      "text/plain": [
       "  created_at                  id  \\\n",
       "0    08/2017  892177421306343426   \n",
       "1    07/2017  891815181378084864   \n",
       "\n",
       "                                   extended_entities  retweet_count  \\\n",
       "0  {'media': [{'id': 892177413194625024, 'id_str'...           6514   \n",
       "1  {'media': [{'id': 891815175371796480, 'id_str'...           4328   \n",
       "\n",
       "   favorite_count                                               text  \\\n",
       "0           33819  this is tilly. she's just checking pup on you....   \n",
       "1           25461  this is archie. he is a rare norwegian pouncin...   \n",
       "\n",
       "   rating_numerator  rating_denominator    name  \\\n",
       "0              13.0                  10   Tilly   \n",
       "1              12.0                  10  Archie   \n",
       "\n",
       "                                           jpg_url   dog_type dog_stage  \n",
       "0  https://pbs.twimg.com/media/DGGmoV4XsAAUL6n.jpg  Chihuahua      None  \n",
       "1  https://pbs.twimg.com/media/DGBdLU1WsAANxJ9.jpg  Chihuahua      None  "
      ]
     },
     "execution_count": 93,
     "metadata": {},
     "output_type": "execute_result"
    }
   ],
   "source": [
    "# check if is working \n",
    "cleaning_tweet.head(2)"
   ]
  },
  {
   "cell_type": "markdown",
   "metadata": {},
   "source": [
    " <a id='extracurls'></a>\n",
    " ##### define:\n",
    "##### extract tweet url from the extended_entities and assign it to extended_entities (fliter out every thing expect tweet url) "
   ]
  },
  {
   "cell_type": "markdown",
   "metadata": {},
   "source": [
    "##### code:"
   ]
  },
  {
   "cell_type": "code",
   "execution_count": 94,
   "metadata": {},
   "outputs": [
    {
     "data": {
      "text/plain": [
       "['https://twitter.com/dog_rates/status/892177421306343426/photo/1',\n",
       " 'https://twitter.com/dog_rates/status/891815181378084864/photo/1',\n",
       " 'https://twitter.com/dog_rates/status/891689557279858688/photo/1',\n",
       " 'https://twitter.com/dog_rates/status/891327558926688256/photo/1',\n",
       " 'https://twitter.com/dog_rates/status/891087950875897856/photo/1']"
      ]
     },
     "execution_count": 94,
     "metadata": {},
     "output_type": "execute_result"
    }
   ],
   "source": [
    "# store the url for each index \n",
    "urls = []\n",
    "# extract the url form the dic in each index \n",
    "for i in cleaning_tweet.index:\n",
    "    urls.append(cleaning_tweet['extended_entities'][i]['media'][0].get('expanded_url'))\n",
    "    \n",
    "urls[0:5]"
   ]
  },
  {
   "cell_type": "code",
   "execution_count": 95,
   "metadata": {},
   "outputs": [],
   "source": [
    "# assing it to the extended_entities\n",
    "cleaning_tweet['extended_entities'] = urls"
   ]
  },
  {
   "cell_type": "code",
   "execution_count": 96,
   "metadata": {},
   "outputs": [],
   "source": [
    "# rename the coulnm sicne it just an url \n",
    "cleaning_tweet.rename(columns={'extended_entities' : 'tweet_url'} , inplace=True)"
   ]
  },
  {
   "cell_type": "markdown",
   "metadata": {},
   "source": [
    "##### test:"
   ]
  },
  {
   "cell_type": "code",
   "execution_count": 97,
   "metadata": {
    "scrolled": true
   },
   "outputs": [
    {
     "data": {
      "text/html": [
       "<div>\n",
       "<style scoped>\n",
       "    .dataframe tbody tr th:only-of-type {\n",
       "        vertical-align: middle;\n",
       "    }\n",
       "\n",
       "    .dataframe tbody tr th {\n",
       "        vertical-align: top;\n",
       "    }\n",
       "\n",
       "    .dataframe thead th {\n",
       "        text-align: right;\n",
       "    }\n",
       "</style>\n",
       "<table border=\"1\" class=\"dataframe\">\n",
       "  <thead>\n",
       "    <tr style=\"text-align: right;\">\n",
       "      <th></th>\n",
       "      <th>created_at</th>\n",
       "      <th>id</th>\n",
       "      <th>tweet_url</th>\n",
       "      <th>retweet_count</th>\n",
       "      <th>favorite_count</th>\n",
       "      <th>text</th>\n",
       "      <th>rating_numerator</th>\n",
       "      <th>rating_denominator</th>\n",
       "      <th>name</th>\n",
       "      <th>jpg_url</th>\n",
       "      <th>dog_type</th>\n",
       "      <th>dog_stage</th>\n",
       "    </tr>\n",
       "  </thead>\n",
       "  <tbody>\n",
       "    <tr>\n",
       "      <th>0</th>\n",
       "      <td>08/2017</td>\n",
       "      <td>892177421306343426</td>\n",
       "      <td>https://twitter.com/dog_rates/status/892177421...</td>\n",
       "      <td>6514</td>\n",
       "      <td>33819</td>\n",
       "      <td>this is tilly. she's just checking pup on you....</td>\n",
       "      <td>13.0</td>\n",
       "      <td>10</td>\n",
       "      <td>Tilly</td>\n",
       "      <td>https://pbs.twimg.com/media/DGGmoV4XsAAUL6n.jpg</td>\n",
       "      <td>Chihuahua</td>\n",
       "      <td>None</td>\n",
       "    </tr>\n",
       "    <tr>\n",
       "      <th>1</th>\n",
       "      <td>07/2017</td>\n",
       "      <td>891815181378084864</td>\n",
       "      <td>https://twitter.com/dog_rates/status/891815181...</td>\n",
       "      <td>4328</td>\n",
       "      <td>25461</td>\n",
       "      <td>this is archie. he is a rare norwegian pouncin...</td>\n",
       "      <td>12.0</td>\n",
       "      <td>10</td>\n",
       "      <td>Archie</td>\n",
       "      <td>https://pbs.twimg.com/media/DGBdLU1WsAANxJ9.jpg</td>\n",
       "      <td>Chihuahua</td>\n",
       "      <td>None</td>\n",
       "    </tr>\n",
       "    <tr>\n",
       "      <th>2</th>\n",
       "      <td>07/2017</td>\n",
       "      <td>891689557279858688</td>\n",
       "      <td>https://twitter.com/dog_rates/status/891689557...</td>\n",
       "      <td>8964</td>\n",
       "      <td>42908</td>\n",
       "      <td>this is darla. she commenced a snooze mid meal...</td>\n",
       "      <td>13.0</td>\n",
       "      <td>10</td>\n",
       "      <td>Darla</td>\n",
       "      <td>https://pbs.twimg.com/media/DF_q7IAWsAEuuN8.jpg</td>\n",
       "      <td>Labrador_retriever</td>\n",
       "      <td>None</td>\n",
       "    </tr>\n",
       "  </tbody>\n",
       "</table>\n",
       "</div>"
      ],
      "text/plain": [
       "  created_at                  id  \\\n",
       "0    08/2017  892177421306343426   \n",
       "1    07/2017  891815181378084864   \n",
       "2    07/2017  891689557279858688   \n",
       "\n",
       "                                           tweet_url  retweet_count  \\\n",
       "0  https://twitter.com/dog_rates/status/892177421...           6514   \n",
       "1  https://twitter.com/dog_rates/status/891815181...           4328   \n",
       "2  https://twitter.com/dog_rates/status/891689557...           8964   \n",
       "\n",
       "   favorite_count                                               text  \\\n",
       "0           33819  this is tilly. she's just checking pup on you....   \n",
       "1           25461  this is archie. he is a rare norwegian pouncin...   \n",
       "2           42908  this is darla. she commenced a snooze mid meal...   \n",
       "\n",
       "   rating_numerator  rating_denominator    name  \\\n",
       "0              13.0                  10   Tilly   \n",
       "1              12.0                  10  Archie   \n",
       "2              13.0                  10   Darla   \n",
       "\n",
       "                                           jpg_url            dog_type  \\\n",
       "0  https://pbs.twimg.com/media/DGGmoV4XsAAUL6n.jpg           Chihuahua   \n",
       "1  https://pbs.twimg.com/media/DGBdLU1WsAANxJ9.jpg           Chihuahua   \n",
       "2  https://pbs.twimg.com/media/DF_q7IAWsAEuuN8.jpg  Labrador_retriever   \n",
       "\n",
       "  dog_stage  \n",
       "0      None  \n",
       "1      None  \n",
       "2      None  "
      ]
     },
     "execution_count": 97,
     "metadata": {},
     "output_type": "execute_result"
    }
   ],
   "source": [
    "# check it \n",
    "cleaning_tweet.head(3)"
   ]
  },
  {
   "cell_type": "markdown",
   "metadata": {},
   "source": [
    " <a id='cleanedDf'></a>\n",
    "### The cleaned data frame"
   ]
  },
  {
   "cell_type": "code",
   "execution_count": 98,
   "metadata": {},
   "outputs": [],
   "source": [
    "cleaned_df = cleaning_tweet.copy()"
   ]
  },
  {
   "cell_type": "code",
   "execution_count": 99,
   "metadata": {},
   "outputs": [
    {
     "name": "stdout",
     "output_type": "stream",
     "text": [
      "<class 'pandas.core.frame.DataFrame'>\n",
      "Int64Index: 1684 entries, 0 to 1749\n",
      "Data columns (total 12 columns):\n",
      " #   Column              Non-Null Count  Dtype  \n",
      "---  ------              --------------  -----  \n",
      " 0   created_at          1684 non-null   object \n",
      " 1   id                  1684 non-null   object \n",
      " 2   tweet_url           1684 non-null   object \n",
      " 3   retweet_count       1684 non-null   int64  \n",
      " 4   favorite_count      1684 non-null   int64  \n",
      " 5   text                1684 non-null   object \n",
      " 6   rating_numerator    1684 non-null   float64\n",
      " 7   rating_denominator  1684 non-null   int64  \n",
      " 8   name                1203 non-null   object \n",
      " 9   jpg_url             1684 non-null   object \n",
      " 10  dog_type            1684 non-null   object \n",
      " 11  dog_stage           314 non-null    object \n",
      "dtypes: float64(1), int64(3), object(8)\n",
      "memory usage: 251.0+ KB\n"
     ]
    }
   ],
   "source": [
    "cleaned_df.info()"
   ]
  },
  {
   "cell_type": "code",
   "execution_count": 100,
   "metadata": {},
   "outputs": [
    {
     "data": {
      "text/html": [
       "<div>\n",
       "<style scoped>\n",
       "    .dataframe tbody tr th:only-of-type {\n",
       "        vertical-align: middle;\n",
       "    }\n",
       "\n",
       "    .dataframe tbody tr th {\n",
       "        vertical-align: top;\n",
       "    }\n",
       "\n",
       "    .dataframe thead th {\n",
       "        text-align: right;\n",
       "    }\n",
       "</style>\n",
       "<table border=\"1\" class=\"dataframe\">\n",
       "  <thead>\n",
       "    <tr style=\"text-align: right;\">\n",
       "      <th></th>\n",
       "      <th>created_at</th>\n",
       "      <th>id</th>\n",
       "      <th>tweet_url</th>\n",
       "      <th>retweet_count</th>\n",
       "      <th>favorite_count</th>\n",
       "      <th>text</th>\n",
       "      <th>rating_numerator</th>\n",
       "      <th>rating_denominator</th>\n",
       "      <th>name</th>\n",
       "      <th>jpg_url</th>\n",
       "      <th>dog_type</th>\n",
       "      <th>dog_stage</th>\n",
       "    </tr>\n",
       "  </thead>\n",
       "  <tbody>\n",
       "    <tr>\n",
       "      <th>0</th>\n",
       "      <td>08/2017</td>\n",
       "      <td>892177421306343426</td>\n",
       "      <td>https://twitter.com/dog_rates/status/892177421...</td>\n",
       "      <td>6514</td>\n",
       "      <td>33819</td>\n",
       "      <td>this is tilly. she's just checking pup on you....</td>\n",
       "      <td>13.0</td>\n",
       "      <td>10</td>\n",
       "      <td>Tilly</td>\n",
       "      <td>https://pbs.twimg.com/media/DGGmoV4XsAAUL6n.jpg</td>\n",
       "      <td>Chihuahua</td>\n",
       "      <td>None</td>\n",
       "    </tr>\n",
       "    <tr>\n",
       "      <th>1</th>\n",
       "      <td>07/2017</td>\n",
       "      <td>891815181378084864</td>\n",
       "      <td>https://twitter.com/dog_rates/status/891815181...</td>\n",
       "      <td>4328</td>\n",
       "      <td>25461</td>\n",
       "      <td>this is archie. he is a rare norwegian pouncin...</td>\n",
       "      <td>12.0</td>\n",
       "      <td>10</td>\n",
       "      <td>Archie</td>\n",
       "      <td>https://pbs.twimg.com/media/DGBdLU1WsAANxJ9.jpg</td>\n",
       "      <td>Chihuahua</td>\n",
       "      <td>None</td>\n",
       "    </tr>\n",
       "    <tr>\n",
       "      <th>2</th>\n",
       "      <td>07/2017</td>\n",
       "      <td>891689557279858688</td>\n",
       "      <td>https://twitter.com/dog_rates/status/891689557...</td>\n",
       "      <td>8964</td>\n",
       "      <td>42908</td>\n",
       "      <td>this is darla. she commenced a snooze mid meal...</td>\n",
       "      <td>13.0</td>\n",
       "      <td>10</td>\n",
       "      <td>Darla</td>\n",
       "      <td>https://pbs.twimg.com/media/DF_q7IAWsAEuuN8.jpg</td>\n",
       "      <td>Labrador_retriever</td>\n",
       "      <td>None</td>\n",
       "    </tr>\n",
       "    <tr>\n",
       "      <th>3</th>\n",
       "      <td>07/2017</td>\n",
       "      <td>891327558926688256</td>\n",
       "      <td>https://twitter.com/dog_rates/status/891327558...</td>\n",
       "      <td>9774</td>\n",
       "      <td>41048</td>\n",
       "      <td>this is franklin. he would like you to stop ca...</td>\n",
       "      <td>12.0</td>\n",
       "      <td>10</td>\n",
       "      <td>Franklin</td>\n",
       "      <td>https://pbs.twimg.com/media/DF6hr6BUMAAzZgT.jpg</td>\n",
       "      <td>basset</td>\n",
       "      <td>None</td>\n",
       "    </tr>\n",
       "    <tr>\n",
       "      <th>4</th>\n",
       "      <td>07/2017</td>\n",
       "      <td>891087950875897856</td>\n",
       "      <td>https://twitter.com/dog_rates/status/891087950...</td>\n",
       "      <td>3261</td>\n",
       "      <td>20562</td>\n",
       "      <td>here we have a majestic great white breaching ...</td>\n",
       "      <td>13.0</td>\n",
       "      <td>10</td>\n",
       "      <td>None</td>\n",
       "      <td>https://pbs.twimg.com/media/DF3HwyEWsAABqE6.jpg</td>\n",
       "      <td>Chesapeake_Bay_retriever</td>\n",
       "      <td>None</td>\n",
       "    </tr>\n",
       "  </tbody>\n",
       "</table>\n",
       "</div>"
      ],
      "text/plain": [
       "  created_at                  id  \\\n",
       "0    08/2017  892177421306343426   \n",
       "1    07/2017  891815181378084864   \n",
       "2    07/2017  891689557279858688   \n",
       "3    07/2017  891327558926688256   \n",
       "4    07/2017  891087950875897856   \n",
       "\n",
       "                                           tweet_url  retweet_count  \\\n",
       "0  https://twitter.com/dog_rates/status/892177421...           6514   \n",
       "1  https://twitter.com/dog_rates/status/891815181...           4328   \n",
       "2  https://twitter.com/dog_rates/status/891689557...           8964   \n",
       "3  https://twitter.com/dog_rates/status/891327558...           9774   \n",
       "4  https://twitter.com/dog_rates/status/891087950...           3261   \n",
       "\n",
       "   favorite_count                                               text  \\\n",
       "0           33819  this is tilly. she's just checking pup on you....   \n",
       "1           25461  this is archie. he is a rare norwegian pouncin...   \n",
       "2           42908  this is darla. she commenced a snooze mid meal...   \n",
       "3           41048  this is franklin. he would like you to stop ca...   \n",
       "4           20562  here we have a majestic great white breaching ...   \n",
       "\n",
       "   rating_numerator  rating_denominator      name  \\\n",
       "0              13.0                  10     Tilly   \n",
       "1              12.0                  10    Archie   \n",
       "2              13.0                  10     Darla   \n",
       "3              12.0                  10  Franklin   \n",
       "4              13.0                  10      None   \n",
       "\n",
       "                                           jpg_url                  dog_type  \\\n",
       "0  https://pbs.twimg.com/media/DGGmoV4XsAAUL6n.jpg                 Chihuahua   \n",
       "1  https://pbs.twimg.com/media/DGBdLU1WsAANxJ9.jpg                 Chihuahua   \n",
       "2  https://pbs.twimg.com/media/DF_q7IAWsAEuuN8.jpg        Labrador_retriever   \n",
       "3  https://pbs.twimg.com/media/DF6hr6BUMAAzZgT.jpg                    basset   \n",
       "4  https://pbs.twimg.com/media/DF3HwyEWsAABqE6.jpg  Chesapeake_Bay_retriever   \n",
       "\n",
       "  dog_stage  \n",
       "0      None  \n",
       "1      None  \n",
       "2      None  \n",
       "3      None  \n",
       "4      None  "
      ]
     },
     "execution_count": 100,
     "metadata": {},
     "output_type": "execute_result"
    }
   ],
   "source": [
    "cleaned_df.head(5)"
   ]
  },
  {
   "cell_type": "code",
   "execution_count": 101,
   "metadata": {},
   "outputs": [],
   "source": [
    "cleaned_df.to_csv('twitter_archive_master.csv' , index = False)"
   ]
  },
  {
   "cell_type": "markdown",
   "metadata": {},
   "source": [
    " <a id='Analyze'></a>\n",
    "## Analyze and visualize"
   ]
  },
  {
   "cell_type": "markdown",
   "metadata": {},
   "source": [
    "##### after we cleaned the data set its ready to be analyzed:\n",
    "\n",
    "- does the favorites and retweets in tweet have corrlation with its rating? \n",
    "- how the populriaty of this account has icreased over time ? \n",
    "- what are the top 100 rating dogs and thier type ? \n",
    "- what tweet have the highest retweets ? \n",
    "- what tweet have the highest favorites ? \n",
    "- what are the top 10 dog type in the tweets and some info about them? \n",
    "##### all these insights needed for the act report\n",
    "-------------------------------------------------------------\n",
    "these two will not be included in the report\n",
    "- what are the probliblty of having golden etriever dog type in a new tweet ? \n",
    "- what are the probliblty of hving the rate (14 or 13) given that the dog type is Labrador retriever ?\n",
    "-------------------------------------------------------------\n",
    "\n"
   ]
  },
  {
   "cell_type": "code",
   "execution_count": 102,
   "metadata": {},
   "outputs": [],
   "source": [
    "# have copy from the cleaned data \n",
    "visualize_df = cleaned_df.copy()"
   ]
  },
  {
   "cell_type": "code",
   "execution_count": 103,
   "metadata": {},
   "outputs": [],
   "source": [
    "# import matplotlib for visualization\n",
    "import matplotlib.pyplot as plt\n",
    "%matplotlib inline"
   ]
  },
  {
   "cell_type": "markdown",
   "metadata": {},
   "source": [
    "##### does the favorites and retweets in tweet have correlation with its rating? "
   ]
  },
  {
   "cell_type": "code",
   "execution_count": 104,
   "metadata": {},
   "outputs": [],
   "source": [
    "# using group by method to store rating mean for each rating\n",
    "retweet_group = visualize_df.groupby('rating_numerator')['retweet_count'].mean()\n",
    "favorite_group = visualize_df.groupby('rating_numerator')['favorite_count'].mean()"
   ]
  },
  {
   "cell_type": "code",
   "execution_count": 105,
   "metadata": {
    "scrolled": true
   },
   "outputs": [
    {
     "data": {
      "text/plain": [
       "<matplotlib.legend.Legend at 0x24d1627ba30>"
      ]
     },
     "execution_count": 105,
     "metadata": {},
     "output_type": "execute_result"
    },
    {
     "data": {
      "image/png": "[encoded data removed]",
      "text/plain": [
       "<Figure size 800x500 with 1 Axes>"
      ]
     },
     "metadata": {
      "needs_background": "light"
     },
     "output_type": "display_data"
    }
   ],
   "source": [
    "# creat line chart and style it to show the result :\n",
    "plt.figure(figsize=(8, 5), dpi=100)\n",
    "\n",
    "plt.title('Retweets and favorites for each rate in Dog rating tweet')\n",
    "plt.xlabel('Dog Rating')\n",
    "plt.scatter(favorite_group.index  , favorite_group  , label = 'favorits')\n",
    "plt.scatter(retweet_group.index  , retweet_group ,  label = 'Retweets')\n",
    "plt.legend()"
   ]
  },
  {
   "cell_type": "markdown",
   "metadata": {},
   "source": [
    "- it seems that tweets with rating 2 to 9 have the same retweet and favorite however form 10 we can see its incresed and the peak is around 14 so we can say that tweet with rating above 9 have more chance to be retweeted and favorited."
   ]
  },
  {
   "cell_type": "markdown",
   "metadata": {},
   "source": [
    "##### how the populriaty of this account has icreased over time ? "
   ]
  },
  {
   "cell_type": "code",
   "execution_count": 106,
   "metadata": {},
   "outputs": [],
   "source": [
    "# using groupby method to store rating mean for each rating\n",
    "visualize_df['created_at'] = visualize_df['created_at'].astype('datetime64[ns]')\n",
    "populiraty = visualize_df.groupby('created_at')[['retweet_count','favorite_count']].mean()\n",
    "\n",
    "#populiraty data frame will have newa coulmn named populiraty to have one measuremnt will use in the second chart\n",
    "populiraty['populiraty'] = populiraty['favorite_count'] / populiraty['retweet_count']\n"
   ]
  },
  {
   "cell_type": "code",
   "execution_count": 107,
   "metadata": {},
   "outputs": [
    {
     "data": {
      "text/plain": [
       "<matplotlib.legend.Legend at 0x24d178841f0>"
      ]
     },
     "execution_count": 107,
     "metadata": {},
     "output_type": "execute_result"
    },
    {
     "data": {
      "image/png": "[encoded data removed]",
      "text/plain": [
       "<Figure size 800x500 with 1 Axes>"
      ]
     },
     "metadata": {
      "needs_background": "light"
     },
     "output_type": "display_data"
    }
   ],
   "source": [
    "# creat scatter chart and style it to show the result :\n",
    "plt.figure(figsize=(8, 5), dpi=100)\n",
    "plt.title('the mean of retweets and favorits of WeRateDogs over two years')\n",
    "plt.xlabel('tweets date')\n",
    "plt.plot(populiraty.index , populiraty['favorite_count'] , label = 'favorits')\n",
    "plt.plot(populiraty.index , populiraty['retweet_count'] , label = 'retweets')\n",
    "plt.legend()"
   ]
  },
  {
   "cell_type": "markdown",
   "metadata": {},
   "source": [
    "- there are positive correlation in tweets and favorites with date witch indicate that popularity of WeRateDogs account is increasing over time"
   ]
  },
  {
   "cell_type": "code",
   "execution_count": 108,
   "metadata": {},
   "outputs": [
    {
     "data": {
      "text/plain": [
       "<matplotlib.legend.Legend at 0x24d175c3ca0>"
      ]
     },
     "execution_count": 108,
     "metadata": {},
     "output_type": "execute_result"
    },
    {
     "data": {
      "image/png": "[encoded data removed]",
      "text/plain": [
       "<Figure size 800x500 with 1 Axes>"
      ]
     },
     "metadata": {
      "needs_background": "light"
     },
     "output_type": "display_data"
    }
   ],
   "source": [
    "# now lets see the popularity in chart \n",
    "# popularity  = favorits mean /retweets mean\n",
    "\n",
    "plt.figure(figsize=(8, 5), dpi=100)\n",
    "plt.title('the popularity of WeRateDogs over two years')\n",
    "plt.xlabel('tweets date')\n",
    "plt.ylabel('popularity ratio')\n",
    "plt.plot(populiraty.index , populiraty['populiraty'] , label='populiraty = favorits mean /retweets mean')\n",
    "plt.legend()"
   ]
  },
  {
   "cell_type": "markdown",
   "metadata": {},
   "source": [
    "- as we see in the frist chart this chart ensure the fact of WeRateDogs account is increasing , they started with 2.5 populiraty in 2015 and in 2017 they reach almost 5 populiraty"
   ]
  },
  {
   "cell_type": "markdown",
   "metadata": {},
   "source": [
    "##### what are the top 100 rating dogs and thier type ? "
   ]
  },
  {
   "cell_type": "code",
   "execution_count": 109,
   "metadata": {},
   "outputs": [
    {
     "data": {
      "text/plain": [
       "rating_numerator\n",
       "13.0    75\n",
       "13.5     1\n",
       "14.0    24\n",
       "Name: dog_type, dtype: int64"
      ]
     },
     "execution_count": 109,
     "metadata": {},
     "output_type": "execute_result"
    }
   ],
   "source": [
    "# extract the top100 rata dogs form the data frame \n",
    "top100_index = visualize_df['rating_numerator'].sort_values(ascending = False)[0:100].index\n",
    "top100_df = visualize_df.loc[top100_index]\n",
    "# use group by to see the number of socre for the top100\n",
    "top100_rating = top100_df.groupby(['rating_numerator'])['dog_type'].count()\n",
    "top100_rating"
   ]
  },
  {
   "cell_type": "code",
   "execution_count": 110,
   "metadata": {
    "scrolled": true
   },
   "outputs": [
    {
     "data": {
      "text/plain": [
       "Text(0.5, 1.0, 'Top 100 rating percentage')"
      ]
     },
     "execution_count": 110,
     "metadata": {},
     "output_type": "execute_result"
    },
    {
     "data": {
      "image/png": "[encoded data removed]",
      "text/plain": [
       "<Figure size 600x400 with 1 Axes>"
      ]
     },
     "metadata": {},
     "output_type": "display_data"
    }
   ],
   "source": [
    "# create pie chart to repreasent the top 100 rating score \n",
    "labels = ['13 score','13.5 score' , '14 score']\n",
    "plt.figure(dpi=100)\n",
    "colors = ['#28A2AE' , '#DF684D' , '#3AA761' ]\n",
    "plt.pie(top100_rating , labels = labels , colors = colors , wedgeprops={'edgecolor' : 'black'} , autopct = '%1.1f%%')\n",
    "plt.title(\"Top 100 rating percentage\")"
   ]
  },
  {
   "cell_type": "markdown",
   "metadata": {},
   "source": [
    "- we cannt answer the question by this chart but it shows us that the highest score is 14 and only 24 dogs from 1600 have it"
   ]
  },
  {
   "cell_type": "code",
   "execution_count": 111,
   "metadata": {},
   "outputs": [],
   "source": [
    "# use group by to isolate the mean socre and the number of score \n",
    "top100_dogtype_score = top100_df.groupby('dog_type')['rating_numerator'].mean()\n",
    "top100_dogtype_number = top100_df.groupby('dog_type')['rating_numerator'].count()"
   ]
  },
  {
   "cell_type": "code",
   "execution_count": 112,
   "metadata": {},
   "outputs": [],
   "source": [
    "# create two list so we can use the dog type and its mean score in x-aixs in the chart\n",
    "list_of_number = list(top100_dogtype_score.index)\n",
    "list_of_score = list(top100_dogtype_score)\n",
    "\n",
    "x_axis = []\n",
    "\n",
    "# this loop will merge the two list to form one string that have the dog type and its mean score.\n",
    "for i in range(len(list_of_score)):\n",
    "    new_index = list_of_number[i]+' ({})'.format(round(list_of_score[i],1))\n",
    "    x_axis.append(new_index)"
   ]
  },
  {
   "cell_type": "code",
   "execution_count": 113,
   "metadata": {
    "scrolled": true
   },
   "outputs": [
    {
     "data": {
      "text/plain": [
       "Text(0, 0.5, 'Type of Dog (score mean)')"
      ]
     },
     "execution_count": 113,
     "metadata": {},
     "output_type": "execute_result"
    },
    {
     "data": {
      "image/png": "[encoded data removed]",
      "text/plain": [
       "<Figure size 600x1000 with 1 Axes>"
      ]
     },
     "metadata": {
      "needs_background": "light"
     },
     "output_type": "display_data"
    }
   ],
   "source": [
    "# creat horizntal bar to display the result\n",
    "plt.figure(figsize=(6, 10), dpi=100)\n",
    "plt.barh(x_axis , top100_dogtype_number)\n",
    "plt.title('The Number of Dogs Type in The Top100 Dog rating')\n",
    "plt.xlabel('Number of Dog Type')\n",
    "plt.ylabel('Type of Dog (score mean)')"
   ]
  },
  {
   "cell_type": "markdown",
   "metadata": {},
   "source": [
    "- there are so many dog type sharing the top 100 witch indcate that there are no relation btween a doge type and its rating \n",
    "  however we have two dog type that have high number in top100 golden_retriever with 9 with mean score of 13.4 and pembroke     with 10 and mean score of 13.4 so these two type of dogs have high chance to rated high."
   ]
  },
  {
   "cell_type": "markdown",
   "metadata": {},
   "source": [
    "##### what are the probliblty of having golden_retriever dog type in a new tweet ? "
   ]
  },
  {
   "cell_type": "markdown",
   "metadata": {},
   "source": [
    "P(golden etriever)"
   ]
  },
  {
   "cell_type": "code",
   "execution_count": 114,
   "metadata": {},
   "outputs": [
    {
     "data": {
      "text/plain": [
       "0.09323040380047506"
      ]
     },
     "execution_count": 114,
     "metadata": {},
     "output_type": "execute_result"
    }
   ],
   "source": [
    "(visualize_df['dog_type'] == 'golden_retriever').sum() / visualize_df['dog_type'].count()"
   ]
  },
  {
   "cell_type": "markdown",
   "metadata": {},
   "source": [
    "- the probliblty of having golden_retriever dog type in a new tweet is 9.32 %"
   ]
  },
  {
   "cell_type": "markdown",
   "metadata": {},
   "source": [
    "##### what are the probliblty of hving the rate (12) given that the dog type is Labrador retriever ?"
   ]
  },
  {
   "cell_type": "markdown",
   "metadata": {},
   "source": [
    "P(12 | Labrador_retriever)"
   ]
  },
  {
   "cell_type": "markdown",
   "metadata": {},
   "source": [
    "frist : P(12 | Labrador_retriever) = (P(Labrador_retriever | 12) * P(12)) / P(Labrador_retriever)"
   ]
  },
  {
   "cell_type": "code",
   "execution_count": 115,
   "metadata": {},
   "outputs": [
    {
     "data": {
      "text/plain": [
       "0.07276995305164319"
      ]
     },
     "execution_count": 115,
     "metadata": {},
     "output_type": "execute_result"
    }
   ],
   "source": [
    "p_Labrador_retriever_given_12 = (visualize_df[visualize_df['rating_numerator'] == 12]['dog_type'] == 'Labrador_retriever').sum()\\\n",
    "                                /(visualize_df[visualize_df['rating_numerator'] == 12]['dog_type'].count())\n",
    "p_Labrador_retriever_given_12"
   ]
  },
  {
   "cell_type": "markdown",
   "metadata": {},
   "source": [
    "P(Labrador_retriever | 12) = 7.27%"
   ]
  },
  {
   "cell_type": "code",
   "execution_count": 116,
   "metadata": {},
   "outputs": [
    {
     "data": {
      "text/plain": [
       "0.2529691211401425"
      ]
     },
     "execution_count": 116,
     "metadata": {},
     "output_type": "execute_result"
    }
   ],
   "source": [
    "P_12 = (visualize_df['rating_numerator'] == 12).sum() / visualize_df['rating_numerator'].count()\n",
    "P_12"
   ]
  },
  {
   "cell_type": "markdown",
   "metadata": {},
   "source": [
    "P(12) = 25.29%"
   ]
  },
  {
   "cell_type": "code",
   "execution_count": 117,
   "metadata": {},
   "outputs": [
    {
     "data": {
      "text/plain": [
       "0.06413301662707839"
      ]
     },
     "execution_count": 117,
     "metadata": {},
     "output_type": "execute_result"
    }
   ],
   "source": [
    "p_Labrador_retriever = (visualize_df['dog_type'] == 'Labrador_retriever').sum() / visualize_df['dog_type'].count()\n",
    "p_Labrador_retriever"
   ]
  },
  {
   "cell_type": "markdown",
   "metadata": {},
   "source": [
    "P(Labrador_retriever) = 6.41%"
   ]
  },
  {
   "cell_type": "code",
   "execution_count": 118,
   "metadata": {},
   "outputs": [
    {
     "data": {
      "text/plain": [
       "0.287037037037037"
      ]
     },
     "execution_count": 118,
     "metadata": {},
     "output_type": "execute_result"
    }
   ],
   "source": [
    "(p_Labrador_retriever_given_12 * P_12) / p_Labrador_retriever"
   ]
  },
  {
   "cell_type": "markdown",
   "metadata": {},
   "source": [
    "the probliblty of hving the rate (12) given that the dog type is Labrador retriever = 28.7%"
   ]
  },
  {
   "cell_type": "markdown",
   "metadata": {},
   "source": [
    "##### what tweet have the highest retweets ? "
   ]
  },
  {
   "cell_type": "code",
   "execution_count": 119,
   "metadata": {
    "scrolled": true
   },
   "outputs": [
    {
     "data": {
      "text/html": [
       "<div>\n",
       "<style scoped>\n",
       "    .dataframe tbody tr th:only-of-type {\n",
       "        vertical-align: middle;\n",
       "    }\n",
       "\n",
       "    .dataframe tbody tr th {\n",
       "        vertical-align: top;\n",
       "    }\n",
       "\n",
       "    .dataframe thead th {\n",
       "        text-align: right;\n",
       "    }\n",
       "</style>\n",
       "<table border=\"1\" class=\"dataframe\">\n",
       "  <thead>\n",
       "    <tr style=\"text-align: right;\">\n",
       "      <th></th>\n",
       "      <th>created_at</th>\n",
       "      <th>id</th>\n",
       "      <th>tweet_url</th>\n",
       "      <th>retweet_count</th>\n",
       "      <th>favorite_count</th>\n",
       "      <th>text</th>\n",
       "      <th>rating_numerator</th>\n",
       "      <th>rating_denominator</th>\n",
       "      <th>name</th>\n",
       "      <th>jpg_url</th>\n",
       "      <th>dog_type</th>\n",
       "      <th>dog_stage</th>\n",
       "    </tr>\n",
       "  </thead>\n",
       "  <tbody>\n",
       "    <tr>\n",
       "      <th>753</th>\n",
       "      <td>2016-06-01</td>\n",
       "      <td>744234799360020481</td>\n",
       "      <td>https://twitter.com/dog_rates/status/744234799...</td>\n",
       "      <td>79515</td>\n",
       "      <td>131075</td>\n",
       "      <td>here's a doggo realizing you can stand in a po...</td>\n",
       "      <td>13.0</td>\n",
       "      <td>10</td>\n",
       "      <td>None</td>\n",
       "      <td>https://pbs.twimg.com/ext_tw_video_thumb/74423...</td>\n",
       "      <td>Labrador_retriever</td>\n",
       "      <td>doggo</td>\n",
       "    </tr>\n",
       "  </tbody>\n",
       "</table>\n",
       "</div>"
      ],
      "text/plain": [
       "    created_at                  id  \\\n",
       "753 2016-06-01  744234799360020481   \n",
       "\n",
       "                                             tweet_url  retweet_count  \\\n",
       "753  https://twitter.com/dog_rates/status/744234799...          79515   \n",
       "\n",
       "     favorite_count                                               text  \\\n",
       "753          131075  here's a doggo realizing you can stand in a po...   \n",
       "\n",
       "     rating_numerator  rating_denominator  name  \\\n",
       "753              13.0                  10  None   \n",
       "\n",
       "                                               jpg_url            dog_type  \\\n",
       "753  https://pbs.twimg.com/ext_tw_video_thumb/74423...  Labrador_retriever   \n",
       "\n",
       "    dog_stage  \n",
       "753     doggo  "
      ]
     },
     "execution_count": 119,
     "metadata": {},
     "output_type": "execute_result"
    }
   ],
   "source": [
    "highest_retweets = visualize_df['retweet_count'].sort_values(ascending = False).index[0]\n",
    "visualize_df.loc[[highest_retweets]]"
   ]
  },
  {
   "cell_type": "markdown",
   "metadata": {},
   "source": [
    "- these info will be used in visualtion reprot but as u can see the highest retweets tweet has rating 13 and with type of Labrador_retriever"
   ]
  },
  {
   "cell_type": "markdown",
   "metadata": {},
   "source": [
    "##### what tweet have the highest favorits ? "
   ]
  },
  {
   "cell_type": "code",
   "execution_count": 120,
   "metadata": {
    "scrolled": true
   },
   "outputs": [
    {
     "data": {
      "text/html": [
       "<div>\n",
       "<style scoped>\n",
       "    .dataframe tbody tr th:only-of-type {\n",
       "        vertical-align: middle;\n",
       "    }\n",
       "\n",
       "    .dataframe tbody tr th {\n",
       "        vertical-align: top;\n",
       "    }\n",
       "\n",
       "    .dataframe thead th {\n",
       "        text-align: right;\n",
       "    }\n",
       "</style>\n",
       "<table border=\"1\" class=\"dataframe\">\n",
       "  <thead>\n",
       "    <tr style=\"text-align: right;\">\n",
       "      <th></th>\n",
       "      <th>created_at</th>\n",
       "      <th>id</th>\n",
       "      <th>tweet_url</th>\n",
       "      <th>retweet_count</th>\n",
       "      <th>favorite_count</th>\n",
       "      <th>text</th>\n",
       "      <th>rating_numerator</th>\n",
       "      <th>rating_denominator</th>\n",
       "      <th>name</th>\n",
       "      <th>jpg_url</th>\n",
       "      <th>dog_type</th>\n",
       "      <th>dog_stage</th>\n",
       "    </tr>\n",
       "  </thead>\n",
       "  <tbody>\n",
       "    <tr>\n",
       "      <th>290</th>\n",
       "      <td>2017-01-01</td>\n",
       "      <td>822872901745569793</td>\n",
       "      <td>https://twitter.com/dog_rates/status/822872901...</td>\n",
       "      <td>48265</td>\n",
       "      <td>132810</td>\n",
       "      <td>here's a super supportive puppo participating ...</td>\n",
       "      <td>13.0</td>\n",
       "      <td>10</td>\n",
       "      <td>None</td>\n",
       "      <td>https://pbs.twimg.com/media/C2tugXLXgAArJO4.jpg</td>\n",
       "      <td>Lakeland_terrier</td>\n",
       "      <td>puppo</td>\n",
       "    </tr>\n",
       "  </tbody>\n",
       "</table>\n",
       "</div>"
      ],
      "text/plain": [
       "    created_at                  id  \\\n",
       "290 2017-01-01  822872901745569793   \n",
       "\n",
       "                                             tweet_url  retweet_count  \\\n",
       "290  https://twitter.com/dog_rates/status/822872901...          48265   \n",
       "\n",
       "     favorite_count                                               text  \\\n",
       "290          132810  here's a super supportive puppo participating ...   \n",
       "\n",
       "     rating_numerator  rating_denominator  name  \\\n",
       "290              13.0                  10  None   \n",
       "\n",
       "                                             jpg_url          dog_type  \\\n",
       "290  https://pbs.twimg.com/media/C2tugXLXgAArJO4.jpg  Lakeland_terrier   \n",
       "\n",
       "    dog_stage  \n",
       "290     puppo  "
      ]
     },
     "execution_count": 120,
     "metadata": {},
     "output_type": "execute_result"
    }
   ],
   "source": [
    "highest_favorits = visualize_df['favorite_count'].sort_values(ascending = False).index[0]\n",
    "visualize_df.loc[[highest_favorits]]"
   ]
  },
  {
   "cell_type": "markdown",
   "metadata": {},
   "source": [
    "- these info will be used in visualtion reprot but as u can see the highest favorits tweet has rating 13 and with type of Lakeland_terrier"
   ]
  }
 ],
 "metadata": {
  "kernelspec": {
   "display_name": "Python 3",
   "language": "python",
   "name": "python3"
  },
  "language_info": {
   "codemirror_mode": {
    "name": "ipython",
    "version": 3
   },
   "file_extension": ".py",
   "mimetype": "text/x-python",
   "name": "python",
   "nbconvert_exporter": "python",
   "pygments_lexer": "ipython3",
   "version": "3.8.5"
  }
 },
 "nbformat": 4,
 "nbformat_minor": 4
}
